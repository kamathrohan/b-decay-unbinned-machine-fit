{
 "cells": [
  {
   "cell_type": "markdown",
   "metadata": {},
   "source": [
    "# Set path - Init "
   ]
  },
  {
   "cell_type": "code",
   "execution_count": 1,
   "metadata": {},
   "outputs": [],
   "source": [
    "import sys \n",
    "sys.path.append('/home/pierre-edouard/Desktop/ICL/Git_LHCb')\n",
    "\n",
    "import numpy as np \n",
    "import matplotlib.pyplot as plt\n",
    "from scipy import stats\n",
    "from scipy import interpolate\n",
    "import time \n",
    "from tqdm import tqdm\n",
    "import csv \n",
    "\n",
    "import b_meson_fit.signal as bmfs  \n",
    "import b_meson_fit as bmf \n",
    "from toy_minuit import toy\n",
    "from test_iminuit import amplitude_latex_names ,amplitude_names, LaTex_labels , Standard_labels  , fix_array , fix_alphas , fix_one_alpha , fix_alpha_beta  ,fix_alpha_beta_gamma5\n"
   ]
  },
  {
   "cell_type": "markdown",
   "metadata": {},
   "source": [
    "# I ) Fitting w/o background signal "
   ]
  },
  {
   "cell_type": "code",
   "execution_count": 2,
   "metadata": {},
   "outputs": [
    {
     "name": "stdout",
     "output_type": "stream",
     "text": [
      "Ideal coeffs for  SM  :  [-4.1781025, -0.15184344, 6.8183246, 0.008585378, -0.0018230017, 0.4660742, -0.23538125, -0.0043176315, 8.003745, 0.16564202, -0.013095878, -0.30668017, 3.8864067, 0.08526551, -8.197446, -0.09505176, 0.007934013, -0.07297003, -0.4235836, 0.027298994, -7.147451, 0.0, 0.0, 0.0, 7.202759, -0.2278163, 9.89863, 0.0, 0.0, 0.0, 0.0, 0.0, 0.0, 0.0, 0.0, 0.0, 1.0, 0.0, 0.0, 1.0, 0.0, 0.0, 1.0, 0.0, 0.0, 1.0, 0.0, 0.0]\n",
      "Time taken to generate data: 5.150904893875122\n",
      "Ideal coeffs for  NP  :  [-3.4277496, -0.12410027, 6.045281, 0.009340614, -0.0019891937, 0.50341135, -0.25086978, -0.005180213, 8.636745, 0.22209263, -0.017419353, -0.5280673, 3.0646408, 0.078515366, -8.841145, -0.113660336, 0.00929356, -0.047615465, -0.933267, 0.016867112, -6.3185554, 0.0, 0.0, 0.0, 5.882883, -0.18442497, 8.101398, 0.0, 0.0, 0.0, 0.0, 0.0, 0.0, 0.0, 0.0, 0.0, 1.0, 0.0, 0.0, 1.0, 0.0, 0.0, 1.0, 0.0, 0.0, 1.0, 0.0, 0.0]\n",
      "Time taken to generate data: 4.344277858734131\n"
     ]
    }
   ],
   "source": [
    "#first we need to generate some data ...\n",
    "\n",
    "N_events=10000\n",
    "\n",
    "toy_signalSM=toy('SM')\n",
    "toy_signalNP=toy('NP')\n",
    "\n",
    "toy_signalSM.generate(events=N_events , verbose=True)\n",
    "toy_signalNP.generate(events=N_events , verbose=True)\n"
   ]
  },
  {
   "cell_type": "code",
   "execution_count": 3,
   "metadata": {},
   "outputs": [
    {
     "name": "stdout",
     "output_type": "stream",
     "text": [
      "tf.Tensor(\n",
      "[[ 5.9702506  -0.57718444 -0.31751633 -2.5316002 ]\n",
      " [ 7.6666965   0.8663926  -0.22839236 -2.200834  ]\n",
      " [ 3.4645941  -0.63139486  0.23670602  1.9849908 ]\n",
      " ...\n",
      " [ 1.1362014   0.87340903 -0.18673134  2.8245828 ]\n",
      " [ 7.859966   -0.12039566 -0.7776048  -1.6811352 ]\n",
      " [ 2.451057    0.97650075  0.29468846 -2.6583521 ]], shape=(10000, 4), dtype=float32)\n"
     ]
    }
   ],
   "source": [
    "print(toy_signalSM.events)"
   ]
  },
  {
   "cell_type": "code",
   "execution_count": 4,
   "metadata": {},
   "outputs": [
    {
     "name": "stdout",
     "output_type": "stream",
     "text": [
      "\n",
      " Coeffs used for MC: [-4.1781025, -0.15184344, 6.8183246, 0.008585378, -0.0018230017, 0.4660742, -0.23538125, -0.0043176315, 8.003745, 0.16564202, -0.013095878, -0.30668017, 3.8864067, 0.08526551, -8.197446, -0.09505176, 0.007934013, -0.07297003, -0.4235836, 0.027298994, -7.147451, 0.0, 0.0, 0.0, 7.202759, -0.2278163, 9.89863, 0.0, 0.0, 0.0, 0.0, 0.0, 0.0, 0.0, 0.0, 0.0, 1.0, 0.0, 0.0, 1.0, 0.0, 0.0, 1.0, 0.0, 0.0, 1.0, 0.0, 0.0]\n",
      "Initial coeffs for tensorflow fit: [-0.6342063, -0.07829778, 10.495879, 0.005627555, -0.0038839218, 0.37271044, -0.34977278, -0.0010122508, 9.229644, 0.20144449, -0.019899964, -1.0321567, 5.6561704, 0.120559394, -9.339803, -0.010842741, 0.003587393, -0.037425745, -0.6946176, 0.008068045, -7.718776, 0.0, 0.0, 0.0, 4.379947, -0.11980875, 13.98615, 0.0, 0.0, 0.0, 0.0, 0.0, 0.0, 0.0, 0.0, 0.0, 0.9390867, 0.0, 0.0, 0.30796432, 0.0, 0.0, 1.8925714, 0.0, 0.0, 0.035738945, 0.0, 0.0]\n",
      "\n",
      "  Fitted coefficients :  [-6.8859353, -0.25731495, 10.198376, -0.61156887, 0.09820337, 0.89456177, -1.8508828, 0.21778157, 16.031805, 1.2008339, -0.1643198, -3.2197921, 4.8270907, 0.3781718, -11.23951, -2.287129, 0.24347824, 3.1618562, -0.90026873, 0.09902912, -11.165051, 0.0, 0.0, 0.0, 11.558103, -0.312977, 18.95139, 0.0, 0.0, 0.0, 0.0, 0.0, 0.0, 0.0, 0.0, 0.0, 1.9303418, 0.0, 0.0, 1.5902672, 0.0, 0.0, 2.070611, 0.0, 0.0, 2.026642, 0.0, 0.0]\n",
      "\n",
      " Time taken to fit : 145.85637831687927\n",
      "[-0.6342063, -0.07829778, 10.495879, 0.005627555, -0.0038839218, 0.37271044, -0.34977278, -0.0010122508, 9.229644, 0.20144449, -0.019899964, -1.0321567, 5.6561704, 0.120559394, -9.339803, -0.010842741, 0.003587393, -0.037425745, -0.6946176, 0.008068045, -7.718776, 0.0, 0.0, 0.0, 4.379947, -0.11980875, 13.98615, 0.0, 0.0, 0.0, 0.0, 0.0, 0.0, 0.0, 0.0, 0.0, 0.9390867, 0.0, 0.0, 0.30796432, 0.0, 0.0, 1.8925714, 0.0, 0.0, 0.035738945, 0.0, 0.0]\n",
      "1\n"
     ]
    },
    {
     "ename": "KeyboardInterrupt",
     "evalue": "",
     "output_type": "error",
     "traceback": [
      "\u001b[0;31m---------------------------------------------------------------------------\u001b[0m",
      "\u001b[0;31mKeyboardInterrupt\u001b[0m                         Traceback (most recent call last)",
      "\u001b[0;32m<ipython-input-4-459f2997e12f>\u001b[0m in \u001b[0;36m<module>\u001b[0;34m\u001b[0m\n\u001b[1;32m     11\u001b[0m     \u001b[0mopt_params\u001b[0m\u001b[0;34m=\u001b[0m \u001b[0;34m{\u001b[0m\u001b[0;34m'beta_1'\u001b[0m\u001b[0;34m:\u001b[0m \u001b[0mbetas1\u001b[0m\u001b[0;34m[\u001b[0m\u001b[0mj\u001b[0m\u001b[0;34m]\u001b[0m\u001b[0;34m}\u001b[0m\u001b[0;34m\u001b[0m\u001b[0;34m\u001b[0m\u001b[0m\n\u001b[1;32m     12\u001b[0m \u001b[0;34m\u001b[0m\u001b[0m\n\u001b[0;32m---> 13\u001b[0;31m     \u001b[0moptimizerTF\u001b[0m \u001b[0;34m,\u001b[0m \u001b[0mcoeffTF\u001b[0m \u001b[0;34m=\u001b[0m \u001b[0mtoy_signalSM\u001b[0m\u001b[0;34m.\u001b[0m\u001b[0mtf_fit\u001b[0m\u001b[0;34m(\u001b[0m\u001b[0minit\u001b[0m\u001b[0;34m=\u001b[0m \u001b[0;34m'SAME SIGN'\u001b[0m \u001b[0;34m,\u001b[0m \u001b[0mfixed\u001b[0m\u001b[0;34m=\u001b[0m\u001b[0mFX\u001b[0m \u001b[0;34m,\u001b[0m \u001b[0mcoefini\u001b[0m\u001b[0;34m=\u001b[0m\u001b[0mINIT\u001b[0m \u001b[0;34m,\u001b[0m  \u001b[0mverbose\u001b[0m\u001b[0;34m=\u001b[0m\u001b[0;32mFalse\u001b[0m \u001b[0;34m,\u001b[0m \u001b[0mopt_params\u001b[0m\u001b[0;34m=\u001b[0m\u001b[0mopt_params\u001b[0m\u001b[0;34m)\u001b[0m\u001b[0;34m\u001b[0m\u001b[0;34m\u001b[0m\u001b[0m\n\u001b[0m\u001b[1;32m     14\u001b[0m \u001b[0;34m\u001b[0m\u001b[0m\n\u001b[1;32m     15\u001b[0m     \u001b[0mprint\u001b[0m\u001b[0;34m(\u001b[0m\u001b[0moptimizerTF\u001b[0m\u001b[0;34m.\u001b[0m\u001b[0moptimizer\u001b[0m\u001b[0;34m.\u001b[0m\u001b[0mget_config\u001b[0m\u001b[0;34m(\u001b[0m\u001b[0;34m)\u001b[0m\u001b[0;34m)\u001b[0m\u001b[0;34m\u001b[0m\u001b[0;34m\u001b[0m\u001b[0m\n",
      "\u001b[0;32m~/Desktop/ICL/Git_LHCb/Minuit/toy_minuit.py\u001b[0m in \u001b[0;36mtf_fit\u001b[0;34m(self, Ncall, init, fixed, coefini, verbose, opt_params)\u001b[0m\n\u001b[1;32m    115\u001b[0m         \u001b[0mt0\u001b[0m\u001b[0;34m=\u001b[0m\u001b[0mtime\u001b[0m\u001b[0;34m.\u001b[0m\u001b[0mtime\u001b[0m\u001b[0;34m(\u001b[0m\u001b[0;34m)\u001b[0m\u001b[0;34m\u001b[0m\u001b[0;34m\u001b[0m\u001b[0m\n\u001b[1;32m    116\u001b[0m         \u001b[0;32mwhile\u001b[0m \u001b[0mconverged\u001b[0m \u001b[0;34m==\u001b[0m \u001b[0;32mFalse\u001b[0m \u001b[0;34m:\u001b[0m\u001b[0;34m\u001b[0m\u001b[0;34m\u001b[0m\u001b[0m\n\u001b[0;32m--> 117\u001b[0;31m             \u001b[0moptimizer\u001b[0m\u001b[0;34m.\u001b[0m\u001b[0mminimize\u001b[0m\u001b[0;34m(\u001b[0m\u001b[0;34m)\u001b[0m\u001b[0;34m\u001b[0m\u001b[0;34m\u001b[0m\u001b[0m\n\u001b[0m\u001b[1;32m    118\u001b[0m             \u001b[0;32mif\u001b[0m \u001b[0mNcall\u001b[0m \u001b[0;32mis\u001b[0m \u001b[0;32mnot\u001b[0m \u001b[0;32mNone\u001b[0m \u001b[0;32mand\u001b[0m \u001b[0mj\u001b[0m\u001b[0;34m>\u001b[0m\u001b[0mNcall\u001b[0m\u001b[0;34m:\u001b[0m\u001b[0;34m\u001b[0m\u001b[0;34m\u001b[0m\u001b[0m\n\u001b[1;32m    119\u001b[0m                 \u001b[0mtfCoeff\u001b[0m\u001b[0;34m=\u001b[0m\u001b[0;34m[\u001b[0m\u001b[0moptimizer\u001b[0m\u001b[0;34m.\u001b[0m\u001b[0mfit_coeffs\u001b[0m\u001b[0;34m[\u001b[0m\u001b[0mi\u001b[0m\u001b[0;34m]\u001b[0m\u001b[0;34m.\u001b[0m\u001b[0mnumpy\u001b[0m\u001b[0;34m(\u001b[0m\u001b[0;34m)\u001b[0m \u001b[0;32mfor\u001b[0m \u001b[0mi\u001b[0m \u001b[0;32min\u001b[0m \u001b[0mrange\u001b[0m\u001b[0;34m(\u001b[0m\u001b[0mlen\u001b[0m\u001b[0;34m(\u001b[0m\u001b[0moptimizer\u001b[0m\u001b[0;34m.\u001b[0m\u001b[0mfit_coeffs\u001b[0m\u001b[0;34m)\u001b[0m\u001b[0;34m)\u001b[0m\u001b[0;34m]\u001b[0m\u001b[0;34m\u001b[0m\u001b[0;34m\u001b[0m\u001b[0m\n",
      "\u001b[0;32m~/Desktop/ICL/Git_LHCb/b_meson_fit/optimizer.py\u001b[0m in \u001b[0;36mminimize\u001b[0;34m(self)\u001b[0m\n\u001b[1;32m     64\u001b[0m         \u001b[0;34m\"\"\"Increment step counter and calculate gradients\"\"\"\u001b[0m\u001b[0;34m\u001b[0m\u001b[0;34m\u001b[0m\u001b[0m\n\u001b[1;32m     65\u001b[0m         \u001b[0mself\u001b[0m\u001b[0;34m.\u001b[0m\u001b[0mstep\u001b[0m\u001b[0;34m.\u001b[0m\u001b[0massign\u001b[0m\u001b[0;34m(\u001b[0m\u001b[0mself\u001b[0m\u001b[0;34m.\u001b[0m\u001b[0mstep\u001b[0m \u001b[0;34m+\u001b[0m \u001b[0;36m1\u001b[0m\u001b[0;34m)\u001b[0m\u001b[0;34m\u001b[0m\u001b[0;34m\u001b[0m\u001b[0m\n\u001b[0;32m---> 66\u001b[0;31m         \u001b[0mself\u001b[0m\u001b[0;34m.\u001b[0m\u001b[0mnormalized_nll\u001b[0m\u001b[0;34m,\u001b[0m \u001b[0mself\u001b[0m\u001b[0;34m.\u001b[0m\u001b[0mgrads\u001b[0m \u001b[0;34m,\u001b[0m  \u001b[0mself\u001b[0m\u001b[0;34m.\u001b[0m\u001b[0mgrad_max\u001b[0m \u001b[0;34m=\u001b[0m \u001b[0mself\u001b[0m\u001b[0;34m.\u001b[0m\u001b[0m_get_gradients\u001b[0m\u001b[0;34m(\u001b[0m\u001b[0;34m)\u001b[0m\u001b[0;34m\u001b[0m\u001b[0;34m\u001b[0m\u001b[0m\n\u001b[0m\u001b[1;32m     67\u001b[0m \u001b[0;34m\u001b[0m\u001b[0m\n\u001b[1;32m     68\u001b[0m \u001b[0;34m\u001b[0m\u001b[0m\n",
      "\u001b[0;32m~/Desktop/ICL/Git_LHCb/venv/lib/python3.6/site-packages/tensorflow/python/eager/def_function.py\u001b[0m in \u001b[0;36m__call__\u001b[0;34m(self, *args, **kwds)\u001b[0m\n\u001b[1;32m    400\u001b[0m       \u001b[0;31m# In this case we have created variables on the first call, so we run the\u001b[0m\u001b[0;34m\u001b[0m\u001b[0;34m\u001b[0m\u001b[0;34m\u001b[0m\u001b[0m\n\u001b[1;32m    401\u001b[0m       \u001b[0;31m# defunned version which is guaranteed to never create variables.\u001b[0m\u001b[0;34m\u001b[0m\u001b[0;34m\u001b[0m\u001b[0;34m\u001b[0m\u001b[0m\n\u001b[0;32m--> 402\u001b[0;31m       \u001b[0;32mreturn\u001b[0m \u001b[0mself\u001b[0m\u001b[0;34m.\u001b[0m\u001b[0m_stateless_fn\u001b[0m\u001b[0;34m(\u001b[0m\u001b[0;34m*\u001b[0m\u001b[0margs\u001b[0m\u001b[0;34m,\u001b[0m \u001b[0;34m**\u001b[0m\u001b[0mkwds\u001b[0m\u001b[0;34m)\u001b[0m  \u001b[0;31m# pylint: disable=not-callable\u001b[0m\u001b[0;34m\u001b[0m\u001b[0;34m\u001b[0m\u001b[0m\n\u001b[0m\u001b[1;32m    403\u001b[0m     \u001b[0;32melif\u001b[0m \u001b[0mself\u001b[0m\u001b[0;34m.\u001b[0m\u001b[0m_stateful_fn\u001b[0m \u001b[0;32mis\u001b[0m \u001b[0;32mnot\u001b[0m \u001b[0;32mNone\u001b[0m\u001b[0;34m:\u001b[0m\u001b[0;34m\u001b[0m\u001b[0;34m\u001b[0m\u001b[0m\n\u001b[1;32m    404\u001b[0m       \u001b[0;31m# In this case we have not created variables on the first call. So we can\u001b[0m\u001b[0;34m\u001b[0m\u001b[0;34m\u001b[0m\u001b[0;34m\u001b[0m\u001b[0m\n",
      "\u001b[0;32m~/Desktop/ICL/Git_LHCb/venv/lib/python3.6/site-packages/tensorflow/python/eager/function.py\u001b[0m in \u001b[0;36m__call__\u001b[0;34m(self, *args, **kwargs)\u001b[0m\n\u001b[1;32m   1322\u001b[0m     \u001b[0;34m\"\"\"Calls a graph function specialized to the inputs.\"\"\"\u001b[0m\u001b[0;34m\u001b[0m\u001b[0;34m\u001b[0m\u001b[0m\n\u001b[1;32m   1323\u001b[0m     \u001b[0mgraph_function\u001b[0m\u001b[0;34m,\u001b[0m \u001b[0margs\u001b[0m\u001b[0;34m,\u001b[0m \u001b[0mkwargs\u001b[0m \u001b[0;34m=\u001b[0m \u001b[0mself\u001b[0m\u001b[0;34m.\u001b[0m\u001b[0m_maybe_define_function\u001b[0m\u001b[0;34m(\u001b[0m\u001b[0margs\u001b[0m\u001b[0;34m,\u001b[0m \u001b[0mkwargs\u001b[0m\u001b[0;34m)\u001b[0m\u001b[0;34m\u001b[0m\u001b[0;34m\u001b[0m\u001b[0m\n\u001b[0;32m-> 1324\u001b[0;31m     \u001b[0;32mreturn\u001b[0m \u001b[0mgraph_function\u001b[0m\u001b[0;34m.\u001b[0m\u001b[0m_filtered_call\u001b[0m\u001b[0;34m(\u001b[0m\u001b[0margs\u001b[0m\u001b[0;34m,\u001b[0m \u001b[0mkwargs\u001b[0m\u001b[0;34m)\u001b[0m  \u001b[0;31m# pylint: disable=protected-access\u001b[0m\u001b[0;34m\u001b[0m\u001b[0;34m\u001b[0m\u001b[0m\n\u001b[0m\u001b[1;32m   1325\u001b[0m \u001b[0;34m\u001b[0m\u001b[0m\n\u001b[1;32m   1326\u001b[0m   \u001b[0;34m@\u001b[0m\u001b[0mproperty\u001b[0m\u001b[0;34m\u001b[0m\u001b[0;34m\u001b[0m\u001b[0m\n",
      "\u001b[0;32m~/Desktop/ICL/Git_LHCb/venv/lib/python3.6/site-packages/tensorflow/python/eager/function.py\u001b[0m in \u001b[0;36m_filtered_call\u001b[0;34m(self, args, kwargs)\u001b[0m\n\u001b[1;32m    576\u001b[0m     \"\"\"\n\u001b[1;32m    577\u001b[0m     return self._call_flat(\n\u001b[0;32m--> 578\u001b[0;31m         (t for t in nest.flatten((args, kwargs), expand_composites=True)\n\u001b[0m\u001b[1;32m    579\u001b[0m          if isinstance(t, (ops.Tensor,\n\u001b[1;32m    580\u001b[0m                            resource_variable_ops.ResourceVariable))))\n",
      "\u001b[0;32m~/Desktop/ICL/Git_LHCb/venv/lib/python3.6/site-packages/tensorflow/python/eager/function.py\u001b[0m in \u001b[0;36m_call_flat\u001b[0;34m(self, args)\u001b[0m\n\u001b[1;32m    658\u001b[0m     \u001b[0;31m# Only need to override the gradient in graph mode and when we have outputs.\u001b[0m\u001b[0;34m\u001b[0m\u001b[0;34m\u001b[0m\u001b[0;34m\u001b[0m\u001b[0m\n\u001b[1;32m    659\u001b[0m     \u001b[0;32mif\u001b[0m \u001b[0mcontext\u001b[0m\u001b[0;34m.\u001b[0m\u001b[0mexecuting_eagerly\u001b[0m\u001b[0;34m(\u001b[0m\u001b[0;34m)\u001b[0m \u001b[0;32mor\u001b[0m \u001b[0;32mnot\u001b[0m \u001b[0mself\u001b[0m\u001b[0;34m.\u001b[0m\u001b[0moutputs\u001b[0m\u001b[0;34m:\u001b[0m\u001b[0;34m\u001b[0m\u001b[0;34m\u001b[0m\u001b[0m\n\u001b[0;32m--> 660\u001b[0;31m       \u001b[0moutputs\u001b[0m \u001b[0;34m=\u001b[0m \u001b[0mself\u001b[0m\u001b[0;34m.\u001b[0m\u001b[0m_inference_function\u001b[0m\u001b[0;34m.\u001b[0m\u001b[0mcall\u001b[0m\u001b[0;34m(\u001b[0m\u001b[0mctx\u001b[0m\u001b[0;34m,\u001b[0m \u001b[0margs\u001b[0m\u001b[0;34m)\u001b[0m\u001b[0;34m\u001b[0m\u001b[0;34m\u001b[0m\u001b[0m\n\u001b[0m\u001b[1;32m    661\u001b[0m     \u001b[0;32melse\u001b[0m\u001b[0;34m:\u001b[0m\u001b[0;34m\u001b[0m\u001b[0;34m\u001b[0m\u001b[0m\n\u001b[1;32m    662\u001b[0m       \u001b[0mself\u001b[0m\u001b[0;34m.\u001b[0m\u001b[0m_register_gradient\u001b[0m\u001b[0;34m(\u001b[0m\u001b[0;34m)\u001b[0m\u001b[0;34m\u001b[0m\u001b[0;34m\u001b[0m\u001b[0m\n",
      "\u001b[0;32m~/Desktop/ICL/Git_LHCb/venv/lib/python3.6/site-packages/tensorflow/python/eager/function.py\u001b[0m in \u001b[0;36mcall\u001b[0;34m(self, ctx, args)\u001b[0m\n\u001b[1;32m    432\u001b[0m             attrs=(\"executor_type\", executor_type,\n\u001b[1;32m    433\u001b[0m                    \"config_proto\", config),\n\u001b[0;32m--> 434\u001b[0;31m             ctx=ctx)\n\u001b[0m\u001b[1;32m    435\u001b[0m       \u001b[0;31m# Replace empty list with None\u001b[0m\u001b[0;34m\u001b[0m\u001b[0;34m\u001b[0m\u001b[0;34m\u001b[0m\u001b[0m\n\u001b[1;32m    436\u001b[0m       \u001b[0moutputs\u001b[0m \u001b[0;34m=\u001b[0m \u001b[0moutputs\u001b[0m \u001b[0;32mor\u001b[0m \u001b[0;32mNone\u001b[0m\u001b[0;34m\u001b[0m\u001b[0;34m\u001b[0m\u001b[0m\n",
      "\u001b[0;32m~/Desktop/ICL/Git_LHCb/venv/lib/python3.6/site-packages/tensorflow/python/eager/execute.py\u001b[0m in \u001b[0;36mquick_execute\u001b[0;34m(op_name, num_outputs, inputs, attrs, ctx, name)\u001b[0m\n\u001b[1;32m     59\u001b[0m     tensors = pywrap_tensorflow.TFE_Py_Execute(ctx._handle, device_name,\n\u001b[1;32m     60\u001b[0m                                                \u001b[0mop_name\u001b[0m\u001b[0;34m,\u001b[0m \u001b[0minputs\u001b[0m\u001b[0;34m,\u001b[0m \u001b[0mattrs\u001b[0m\u001b[0;34m,\u001b[0m\u001b[0;34m\u001b[0m\u001b[0;34m\u001b[0m\u001b[0m\n\u001b[0;32m---> 61\u001b[0;31m                                                num_outputs)\n\u001b[0m\u001b[1;32m     62\u001b[0m   \u001b[0;32mexcept\u001b[0m \u001b[0mcore\u001b[0m\u001b[0;34m.\u001b[0m\u001b[0m_NotOkStatusException\u001b[0m \u001b[0;32mas\u001b[0m \u001b[0me\u001b[0m\u001b[0;34m:\u001b[0m\u001b[0;34m\u001b[0m\u001b[0;34m\u001b[0m\u001b[0m\n\u001b[1;32m     63\u001b[0m     \u001b[0;32mif\u001b[0m \u001b[0mname\u001b[0m \u001b[0;32mis\u001b[0m \u001b[0;32mnot\u001b[0m \u001b[0;32mNone\u001b[0m\u001b[0;34m:\u001b[0m\u001b[0;34m\u001b[0m\u001b[0;34m\u001b[0m\u001b[0m\n",
      "\u001b[0;31mKeyboardInterrupt\u001b[0m: "
     ]
    }
   ],
   "source": [
    "#perform fits using the migrad routine (minuit) and AMSGrad (tensorflow)\n",
    "FX=fix_array\n",
    "betas1=[0.5 , 0.55 , 0.6 , 0.75 , 0.8 , 0.85 , 0.9 , 0.95]\n",
    "opt_params= {'beta_1': betas1[0]}\n",
    "optimizerTF , coeffTF = toy_signalSM.tf_fit(init= 'SAME SIGN' , fixed=FX , verbose=True , opt_params=opt_params)\n",
    "\n",
    "INIT=toy_signalSM.coeff_init \n",
    "print(INIT)0\n",
    "for j in range(1 ,len(betas1)):\n",
    "    print(j)\n",
    "    opt_params= {'beta_1': betas1[j]}\n",
    "\n",
    "    optimizerTF , coeffTF = toy_signalSM.tf_fit(init= 'SAME SIGN' , fixed=FX , coefini=INIT ,  verbose=False , opt_params=opt_params)\n",
    "\n",
    "    print(optimizerTF.optimizer.get_config())\n",
    "\n",
    "    INIT=toy_signalSM.coeff_init \n",
    "optimizeMigrad , coeffMigrad = toy_signalSM.minuitfit(init= 'SAME SIGN' , fixed=FX , coefini=INIT, verbose=True)\n"
   ]
  },
  {
   "cell_type": "code",
   "execution_count": 34,
   "metadata": {},
   "outputs": [
    {
     "name": "stderr",
     "output_type": "stream",
     "text": [
      "\n",
      "\n",
      "\n",
      "\n",
      "\n",
      "  0%|          | 0/5 [00:00<?, ?it/s]\u001b[A\u001b[A\u001b[A\u001b[A\u001b[A\n",
      "\n",
      "\n",
      "\n",
      "\n",
      " 20%|██        | 1/5 [00:15<01:03, 15.79s/it]\u001b[A\u001b[A\u001b[A\u001b[A\u001b[A"
     ]
    },
    {
     "name": "stdout",
     "output_type": "stream",
     "text": [
      "[-5.3545356, -0.20130114, 7.9341626, -0.47645104, 0.076517, 0.6965829, -1.3960083, 0.16306366, 12.427047, 0.9434283, -0.12965293, -2.515768, 3.764457, 0.29355943, -8.758536, -1.7806736, 0.18942283, 2.4626775, -0.6634105, 0.071784995, -8.739014, 0.0, 0.0, 0.0, 8.998327, -0.24360335, 14.754914, 0.0, 0.0, 0.0, 0.0, 0.0, 0.0, 0.0, 0.0, 0.0, 1.5028259, 0.0, 0.0, 1.2377898, 0.0, 0.0, 1.6134691, 0.0, 0.0, 1.5775548, 0.0, 0.0]\n"
     ]
    },
    {
     "name": "stderr",
     "output_type": "stream",
     "text": [
      "\n",
      "\n",
      "\n",
      "\n",
      "\n",
      " 40%|████      | 2/5 [00:28<00:44, 14.81s/it]\u001b[A\u001b[A\u001b[A\u001b[A\u001b[A"
     ]
    },
    {
     "name": "stdout",
     "output_type": "stream",
     "text": [
      "[-5.299025, -0.19871284, 7.8517876, -0.47134683, 0.07569061, 0.6891821, -1.3841128, 0.16177316, 12.294876, 0.9355688, -0.12854518, -2.491395, 3.7223616, 0.2904615, -8.661362, -1.7608202, 0.18730532, 2.4353838, -0.66013753, 0.071566604, -8.638582, 0.0, 0.0, 0.0, 8.8995905, -0.24090175, 14.593784, 0.0, 0.0, 0.0, 0.0, 0.0, 0.0, 0.0, 0.0, 0.0, 1.4863948, 0.0, 0.0, 1.2242243, 0.0, 0.0, 1.5956244, 0.0, 0.0, 1.5603781, 0.0, 0.0]\n"
     ]
    },
    {
     "name": "stderr",
     "output_type": "stream",
     "text": [
      "\n",
      "\n",
      "\n",
      "\n",
      "\n",
      " 60%|██████    | 3/5 [00:44<00:30, 15.08s/it]\u001b[A\u001b[A\u001b[A\u001b[A\u001b[A"
     ]
    },
    {
     "name": "stdout",
     "output_type": "stream",
     "text": [
      "[-5.8142505, -0.21758154, 8.615292, -0.51699317, 0.08301358, 0.7559211, -1.5210074, 0.17783536, 13.4877, 1.0204271, -0.14023204, -2.724832, 4.0810957, 0.31869984, -9.497268, -1.9320974, 0.20555265, 2.671937, -0.7228814, 0.07836371, -9.475869, 0.0, 0.0, 0.0, 9.760771, -0.2642583, 16.00435, 0.0, 0.0, 0.0, 0.0, 0.0, 0.0, 0.0, 0.0, 0.0, 1.6301434, 0.0, 0.0, 1.3426181, 0.0, 0.0, 1.7499557, 0.0, 0.0, 1.7112015, 0.0, 0.0]\n"
     ]
    },
    {
     "name": "stderr",
     "output_type": "stream",
     "text": [
      "\n",
      "\n",
      "\n",
      "\n",
      "\n",
      " 80%|████████  | 4/5 [00:56<00:14, 14.16s/it]\u001b[A\u001b[A\u001b[A\u001b[A\u001b[A"
     ]
    },
    {
     "name": "stdout",
     "output_type": "stream",
     "text": [
      "[-4.8494954, -0.18280819, 7.1813107, -0.4313987, 0.069277994, 0.63099647, -1.306787, 0.15377016, 11.315735, 0.8455619, -0.11561599, -2.2706666, 3.41051, 0.26642963, -7.938062, -1.6146729, 0.17192134, 2.2320426, -0.6382391, 0.07020724, -7.874646, 0.0, 0.0, 0.0, 8.1572075, -0.22088966, 13.374282, 0.0, 0.0, 0.0, 0.0, 0.0, 0.0, 0.0, 0.0, 0.0, 1.3623071, 0.0, 0.0, 1.122464, 0.0, 0.0, 1.4612864, 0.0, 0.0, 1.4301431, 0.0, 0.0]\n"
     ]
    },
    {
     "name": "stderr",
     "output_type": "stream",
     "text": [
      "\n",
      "\n",
      "\n",
      "\n",
      "\n",
      "100%|██████████| 5/5 [01:10<00:00, 14.36s/it]\u001b[A\u001b[A\u001b[A\u001b[A\u001b[A"
     ]
    },
    {
     "name": "stdout",
     "output_type": "stream",
     "text": [
      "[-3.717249, -0.1399059, 5.50546, -0.33062652, 0.053096823, 0.48356068, -0.9936881, 0.11671848, 8.660727, 0.6540488, -0.08953142, -1.747184, 2.613179, 0.20411101, -6.081914, -1.2363129, 0.13158305, 1.7094405, -0.48234832, 0.05286298, -6.0420613, 0.0, 0.0, 0.0, 6.2500067, -0.16924101, 10.247295, 0.0, 0.0, 0.0, 0.0, 0.0, 0.0, 0.0, 0.0, 0.0, 1.043792, 0.0, 0.0, 0.85992575, 0.0, 0.0, 1.119803, 0.0, 0.0, 1.0958254, 0.0, 0.0]\n"
     ]
    }
   ],
   "source": [
    "X=[]\n",
    "for j in tqdm(range(5)):\n",
    "    optimizeMigrad , coeffff = toy_signalSM.tf_fit(init= 'SAME SIGN' , fixed=fix_array , verbose=False)\n",
    "    X.append(coeffff)\n",
    "    print(coeffff)\n",
    "X=np.asarray(X)\n"
   ]
  },
  {
   "cell_type": "code",
   "execution_count": 35,
   "metadata": {},
   "outputs": [
    {
     "name": "stdout",
     "output_type": "stream",
     "text": [
      "\n",
      "\n",
      "-5.0069113\n",
      "0.007135794758796692\n",
      "-5.0140470725297925 -4.9997754830122\n",
      "\n",
      "\n",
      "-0.18806192\n",
      "0.00026482941582798956\n",
      "-0.18832675220444797 -0.18779709337279202\n",
      "\n",
      "\n",
      "7.4176025\n",
      "0.010584832429885864\n",
      "7.407017706632614 7.428187371492386\n",
      "\n",
      "\n",
      "-0.44536322\n",
      "0.0006345386803150177\n",
      "-0.4459977622330189 -0.4447286848723888\n",
      "\n",
      "\n",
      "0.0715192\n",
      "0.00010187309235334396\n",
      "0.07141733039170503 0.07162107657641173\n",
      "\n",
      "\n",
      "0.65124863\n",
      "0.0009271448105573654\n",
      "0.6503214890509844 0.6521757786720991\n",
      "\n",
      "\n",
      "-1.3203207\n",
      "0.0017716953158378602\n",
      "-1.3220924207568168 -1.3185490301251412\n",
      "\n",
      "\n",
      "0.15463217\n",
      "0.00020487375557422637\n",
      "0.15442729227244853 0.154837039783597\n",
      "\n",
      "\n",
      "11.6372175\n",
      "0.016397244930267334\n",
      "11.620820276737213 11.653614766597748\n",
      "\n",
      "\n",
      "0.879807\n",
      "0.0012575416266918183\n",
      "0.8785494537651539 0.8810645370185375\n",
      "\n",
      "\n",
      "-0.120715514\n",
      "0.00017438627779483795\n",
      "-0.1208899001032114 -0.12054112754762172\n",
      "\n",
      "\n",
      "-2.3499691\n",
      "0.0033396151661872864\n",
      "-2.3533087638020516 -2.346629533469677\n",
      "\n",
      "\n",
      "3.5183206\n",
      "0.0049996721744537355\n",
      "3.5133208882808686 3.523320232629776\n",
      "\n",
      "\n",
      "0.2746523\n",
      "0.00038964807987213135\n",
      "0.2742626541852951 0.27504195034503937\n",
      "\n",
      "\n",
      "-8.187428\n",
      "0.011629127264022827\n",
      "-8.199057601690292 -8.175799347162247\n",
      "\n",
      "\n",
      "-1.6649154\n",
      "0.00236731231212616\n",
      "-1.667282754778862 -1.6625481301546097\n",
      "\n",
      "\n",
      "0.17715703\n",
      "0.00025156108662486074\n",
      "0.17690546842291952 0.17740859059616923\n",
      "\n",
      "\n",
      "2.3022962\n",
      "0.0032756134867668154\n",
      "2.2990205481648447 2.305571775138378\n",
      "\n",
      "\n",
      "-0.6334034\n",
      "0.0008057601749897003\n",
      "-0.6342091806232929 -0.6325976602733135\n",
      "\n",
      "\n",
      "0.068957105\n",
      "8.530818857252598e-05\n",
      "0.06887179709039629 0.06904241346754134\n",
      "\n",
      "\n",
      "-8.154035\n",
      "0.011715564727783203\n",
      "-8.165750179290772 -8.142319049835205\n",
      "\n",
      "\n",
      "8.41318\n",
      "0.011949756145477296\n",
      "8.401230595111848 8.4251301074028\n",
      "\n",
      "\n",
      "-0.22777882\n",
      "0.0003233423829078674\n",
      "-0.22810216456651689 -0.22745547980070113\n",
      "\n",
      "\n",
      "13.794925\n",
      "0.019597924947738647\n",
      "13.77532681107521 13.814522660970688\n",
      "\n",
      "\n",
      "1.4050926\n",
      "0.001995887905359268\n",
      "1.4030967091023923 1.4070884849131107\n",
      "\n",
      "\n",
      "1.1574044\n",
      "0.0016428342461586\n",
      "1.1557615885138512 1.1590472570061683\n",
      "\n",
      "\n",
      "1.5080278\n",
      "0.002145802527666092\n",
      "1.5058819894492625 1.5101735945045949\n",
      "\n",
      "\n",
      "1.4750206\n",
      "0.0020946769416332247\n",
      "1.472925970107317 1.4771153239905834\n"
     ]
    }
   ],
   "source": [
    "\n",
    "for i in range(len(fix_array)):\n",
    "    if fix_array[i]==0:\n",
    "        \n",
    "        mean=np.mean(X[:,i])\n",
    "        std=np.std(X[:,i])\n",
    "        ste=std/np.sqrt(N_events)\n",
    "        print('\\n')\n",
    "        print(mean)\n",
    "        print(ste)\n",
    "        print(mean-ste , mean+ste)\n",
    "\n"
   ]
  },
  {
   "cell_type": "code",
   "execution_count": 36,
   "metadata": {},
   "outputs": [
    {
     "name": "stdout",
     "output_type": "stream",
     "text": [
      "-4.1781025 -0.15184344 6.8183246\n",
      "-5.0069113 -0.18806192 7.4176025\n"
     ]
    },
    {
     "data": {
      "text/plain": [
       "[<matplotlib.lines.Line2D at 0x7fb85c96ee10>]"
      ]
     },
     "execution_count": 36,
     "metadata": {},
     "output_type": "execute_result"
    },
    {
     "data": {
      "image/png": "[encoded data removed]",
      "text/plain": [
       "<Figure size 432x288 with 1 Axes>"
      ]
     },
     "metadata": {
      "needs_background": "light"
     },
     "output_type": "display_data"
    }
   ],
   "source": [
    "x=np.linspace(1,8)\n",
    "print( toy_signalSM.coeffs[0] , toy_signalSM.coeffs[1] , toy_signalSM.coeffs[2])\n",
    "print( np.mean(X[:,0]) , np.mean(X[:,1]) , np.mean(X[:,2]))\n",
    "\n",
    "\n",
    "def ansatz(alpha, beta, gamma, q2):\n",
    "    return alpha + beta*q2 + gamma/q2\n",
    "\n",
    "def error1(sig_alpha, sig_beta, sig_gamma, q2):\n",
    "    return np.sqrt(sig_alpha**2 + sig_beta**2*q2**2 + sig_beta**2/(q2**2))\n",
    "\n",
    "\n",
    "plt.plot(x , ansatz(toy_signalSM.coeffs[0] , toy_signalSM.coeffs[1] , toy_signalSM.coeffs[2] , x) , 'k')\n",
    "\n",
    "plt.fill_between(x , ansatz(np.mean(X[:,0]) , np.mean(X[:,1]) , np.mean(X[:,2]) , x) -error1(np.std(X[:,0]), np.std(X[:,1]), np.std(X[:,2]), x) , ansatz(np.mean(X[:,0]) , np.mean(X[:,1]) , np.mean(X[:,2]) , x) +error1(np.std(X[:,0]), np.std(X[:,1]), np.std(X[:,2]), x) , alpha=0.1 , color='red')\n",
    "plt.fill_between(x , ansatz(np.mean(X[:,0]) , np.mean(X[:,1]) , np.mean(X[:,2]) , x) -2*error1(np.std(X[:,0]), np.std(X[:,1]), np.std(X[:,2]), x) , ansatz(np.mean(X[:,0]) , np.mean(X[:,1]) , np.mean(X[:,2]) , x) +2*error1(np.std(X[:,0]), np.std(X[:,1]), np.std(X[:,2]), x) , alpha=0.1 , color='orange')\n",
    "\n",
    "#plt.plot(x , ansatz(np.mean(X[:,0]) , np.mean(X[:,1]) , np.mean(X[:,2]) , x) -error1(np.std(X[:,0]), np.std(X[:,1]), np.std(X[:,2]), x)) \n",
    "plt.plot(x , ansatz(np.mean(X[:,0]) , np.mean(X[:,1]) , np.mean(X[:,2]) , x) , 'r')\n",
    "#plt.plot(x , ansatz(np.mean(X[:,0]) , np.mean(X[:,1]) , np.mean(X[:,2]) , x) + error1(np.std(X[:,0]), np.std(X[:,1]), np.std(X[:,2]), x))\n"
   ]
  },
  {
   "cell_type": "markdown",
   "metadata": {},
   "source": [
    "# II ) Testing data generation with background "
   ]
  },
  {
   "cell_type": "code",
   "execution_count": 40,
   "metadata": {},
   "outputs": [],
   "source": [
    "from b_meson_fit.optimizer_extended import Optimizer_Extended \n",
    "import b_meson_fit.background as background\n",
    "import tensorflow.compat.v2 as tf \n",
    "\n",
    "\n",
    "sig_coeffs = bmf.coeffs.fit(initialization=bmf.coeffs.fit_initialization_scheme_default, current_signal_model=\"SM\")\n",
    "back_coeffs = background.back_coeffs_fit\n",
    "alpha = tf.constant(0.8)\n",
    "ndat = tf.constant(1000000)\n",
    "nback = tf.Variable(10000)\n",
    "\n",
    "coeffs = [*sig_coeffs,*back_coeffs,alpha,ndat,nback]"
   ]
  },
  {
   "cell_type": "code",
   "execution_count": 39,
   "metadata": {},
   "outputs": [
    {
     "name": "stdout",
     "output_type": "stream",
     "text": [
      "Background coefficients :  \n",
      " [55.0, 10.0, 100.0, 80.0, 100.0, 80.0, 100.0, 15.0] \n",
      "\n",
      "Signal coefficients :  \n",
      " [-4.1781025, -0.15184344, 6.8183246, 0.008585378, -0.0018230017, 0.4660742, -0.23538125, -0.0043176315, 8.003745, 0.16564202, -0.013095878, -0.30668017, 3.8864067, 0.08526551, -8.197446, -0.09505176, 0.007934013, -0.07297003, -0.4235836, 0.027298994, -7.147451, 0.0, 0.0, 0.0, 7.202759, -0.2278163, 9.89863, 0.0, 0.0, 0.0, 0.0, 0.0, 0.0, 0.0, 0.0, 0.0, 1.0, 0.0, 0.0, 1.0, 0.0, 0.0, 1.0, 0.0, 0.0, 1.0, 0.0, 0.0] \n",
      "\n"
     ]
    },
    {
     "ename": "TypeError",
     "evalue": "'numpy.float32' object is not iterable",
     "output_type": "error",
     "traceback": [
      "\u001b[0;31m---------------------------------------------------------------------------\u001b[0m",
      "\u001b[0;31mTypeError\u001b[0m                                 Traceback (most recent call last)",
      "\u001b[0;32m<ipython-input-39-416e616e04d4>\u001b[0m in \u001b[0;36m<module>\u001b[0;34m\u001b[0m\n\u001b[1;32m      7\u001b[0m \u001b[0mprint\u001b[0m\u001b[0;34m(\u001b[0m\u001b[0;34m'Background coefficients : '\u001b[0m\u001b[0;34m,\u001b[0m \u001b[0;34m'\\n'\u001b[0m \u001b[0;34m,\u001b[0m \u001b[0mBCK\u001b[0m \u001b[0;34m,\u001b[0m \u001b[0;34m'\\n'\u001b[0m \u001b[0;34m)\u001b[0m\u001b[0;34m\u001b[0m\u001b[0;34m\u001b[0m\u001b[0m\n\u001b[1;32m      8\u001b[0m \u001b[0mprint\u001b[0m\u001b[0;34m(\u001b[0m\u001b[0;34m'Signal coefficients : '\u001b[0m \u001b[0;34m,\u001b[0m \u001b[0;34m'\\n'\u001b[0m \u001b[0;34m,\u001b[0m  \u001b[0mSIGNAL\u001b[0m \u001b[0;34m,\u001b[0m \u001b[0;34m'\\n'\u001b[0m\u001b[0;34m)\u001b[0m\u001b[0;34m\u001b[0m\u001b[0;34m\u001b[0m\u001b[0m\n\u001b[0;32m----> 9\u001b[0;31m \u001b[0mevents\u001b[0m \u001b[0;34m=\u001b[0m \u001b[0mbmfs\u001b[0m\u001b[0;34m.\u001b[0m\u001b[0mgenerate_background\u001b[0m\u001b[0;34m(\u001b[0m\u001b[0mBCK\u001b[0m\u001b[0;34m,\u001b[0m\u001b[0;36m1000\u001b[0m\u001b[0;34m,\u001b[0m\u001b[0;36m1000000\u001b[0m\u001b[0;34m)\u001b[0m\u001b[0;34m\u001b[0m\u001b[0;34m\u001b[0m\u001b[0m\n\u001b[0m\u001b[1;32m     10\u001b[0m \u001b[0;34m\u001b[0m\u001b[0m\n\u001b[1;32m     11\u001b[0m \u001b[0mevents_bck\u001b[0m \u001b[0;34m=\u001b[0m \u001b[0mbmfs\u001b[0m\u001b[0;34m.\u001b[0m\u001b[0mgenerate_background_mass\u001b[0m\u001b[0;34m(\u001b[0m\u001b[0mBCK\u001b[0m\u001b[0;34m)\u001b[0m\u001b[0;34m\u001b[0m\u001b[0;34m\u001b[0m\u001b[0m\n",
      "\u001b[0;32m~/Desktop/ICL/Git_LHCb/b_meson_fit/signal.py\u001b[0m in \u001b[0;36mgenerate_background\u001b[0;34m(coeffs, events_total, batch_size)\u001b[0m\n\u001b[1;32m    196\u001b[0m         )\n\u001b[1;32m    197\u001b[0m         \u001b[0;31m# Get a list of probabilities for each event with shape(batch_size,)\u001b[0m\u001b[0;34m\u001b[0m\u001b[0;34m\u001b[0m\u001b[0;34m\u001b[0m\u001b[0m\n\u001b[0;32m--> 198\u001b[0;31m         \u001b[0mprobabilities\u001b[0m \u001b[0;34m=\u001b[0m \u001b[0mbkg\u001b[0m\u001b[0;34m.\u001b[0m\u001b[0mpdfnorm\u001b[0m\u001b[0;34m(\u001b[0m\u001b[0mcoeffs\u001b[0m\u001b[0;34m,\u001b[0m\u001b[0mcandidates\u001b[0m\u001b[0;34m)\u001b[0m\u001b[0;34m\u001b[0m\u001b[0;34m\u001b[0m\u001b[0m\n\u001b[0m\u001b[1;32m    199\u001b[0m \u001b[0;34m\u001b[0m\u001b[0m\n\u001b[1;32m    200\u001b[0m         \u001b[0;31m# Get a uniform distribution of numbers between 0 and 1 with shape (batch_size,)\u001b[0m\u001b[0;34m\u001b[0m\u001b[0;34m\u001b[0m\u001b[0;34m\u001b[0m\u001b[0m\n",
      "\u001b[0;32m~/Desktop/ICL/Git_LHCb/b_meson_fit/background.py\u001b[0m in \u001b[0;36mpdfnorm\u001b[0;34m(coeffs, events)\u001b[0m\n\u001b[1;32m     19\u001b[0m \u001b[0;34m\u001b[0m\u001b[0m\n\u001b[1;32m     20\u001b[0m \u001b[0;32mdef\u001b[0m \u001b[0mpdfnorm\u001b[0m\u001b[0;34m(\u001b[0m\u001b[0mcoeffs\u001b[0m\u001b[0;34m,\u001b[0m\u001b[0mevents\u001b[0m\u001b[0;34m)\u001b[0m\u001b[0;34m:\u001b[0m\u001b[0;34m\u001b[0m\u001b[0;34m\u001b[0m\u001b[0m\n\u001b[0;32m---> 21\u001b[0;31m     \u001b[0mcoeffs\u001b[0m \u001b[0;34m=\u001b[0m \u001b[0;34m[\u001b[0m\u001b[0mtf\u001b[0m\u001b[0;34m.\u001b[0m\u001b[0mconstant\u001b[0m\u001b[0;34m(\u001b[0m\u001b[0mi\u001b[0m \u001b[0;34m,\u001b[0m \u001b[0mdtype\u001b[0m\u001b[0;34m=\u001b[0m\u001b[0;34m'float32'\u001b[0m\u001b[0;34m)\u001b[0m  \u001b[0;32mfor\u001b[0m \u001b[0mj\u001b[0m \u001b[0;32min\u001b[0m \u001b[0mcoeffs\u001b[0m \u001b[0;32mfor\u001b[0m \u001b[0mi\u001b[0m \u001b[0;32min\u001b[0m \u001b[0mj\u001b[0m\u001b[0;34m]\u001b[0m\u001b[0;34m\u001b[0m\u001b[0;34m\u001b[0m\u001b[0m\n\u001b[0m\u001b[1;32m     22\u001b[0m     \u001b[0mqmax\u001b[0m \u001b[0;34m=\u001b[0m \u001b[0;36m8\u001b[0m\u001b[0;34m\u001b[0m\u001b[0;34m\u001b[0m\u001b[0m\n\u001b[1;32m     23\u001b[0m     \u001b[0mqmin\u001b[0m \u001b[0;34m=\u001b[0m \u001b[0;36m1\u001b[0m\u001b[0;34m\u001b[0m\u001b[0;34m\u001b[0m\u001b[0m\n",
      "\u001b[0;32m~/Desktop/ICL/Git_LHCb/b_meson_fit/background.py\u001b[0m in \u001b[0;36m<listcomp>\u001b[0;34m(.0)\u001b[0m\n\u001b[1;32m     19\u001b[0m \u001b[0;34m\u001b[0m\u001b[0m\n\u001b[1;32m     20\u001b[0m \u001b[0;32mdef\u001b[0m \u001b[0mpdfnorm\u001b[0m\u001b[0;34m(\u001b[0m\u001b[0mcoeffs\u001b[0m\u001b[0;34m,\u001b[0m\u001b[0mevents\u001b[0m\u001b[0;34m)\u001b[0m\u001b[0;34m:\u001b[0m\u001b[0;34m\u001b[0m\u001b[0;34m\u001b[0m\u001b[0m\n\u001b[0;32m---> 21\u001b[0;31m     \u001b[0mcoeffs\u001b[0m \u001b[0;34m=\u001b[0m \u001b[0;34m[\u001b[0m\u001b[0mtf\u001b[0m\u001b[0;34m.\u001b[0m\u001b[0mconstant\u001b[0m\u001b[0;34m(\u001b[0m\u001b[0mi\u001b[0m \u001b[0;34m,\u001b[0m \u001b[0mdtype\u001b[0m\u001b[0;34m=\u001b[0m\u001b[0;34m'float32'\u001b[0m\u001b[0;34m)\u001b[0m  \u001b[0;32mfor\u001b[0m \u001b[0mj\u001b[0m \u001b[0;32min\u001b[0m \u001b[0mcoeffs\u001b[0m \u001b[0;32mfor\u001b[0m \u001b[0mi\u001b[0m \u001b[0;32min\u001b[0m \u001b[0mj\u001b[0m\u001b[0;34m]\u001b[0m\u001b[0;34m\u001b[0m\u001b[0;34m\u001b[0m\u001b[0m\n\u001b[0m\u001b[1;32m     22\u001b[0m     \u001b[0mqmax\u001b[0m \u001b[0;34m=\u001b[0m \u001b[0;36m8\u001b[0m\u001b[0;34m\u001b[0m\u001b[0;34m\u001b[0m\u001b[0m\n\u001b[1;32m     23\u001b[0m     \u001b[0mqmin\u001b[0m \u001b[0;34m=\u001b[0m \u001b[0;36m1\u001b[0m\u001b[0;34m\u001b[0m\u001b[0;34m\u001b[0m\u001b[0m\n",
      "\u001b[0;31mTypeError\u001b[0m: 'numpy.float32' object is not iterable"
     ]
    }
   ],
   "source": [
    "#generate events \n",
    "\n",
    "BCK=[back_coeffs[i].numpy() for i in range(len(back_coeffs))]\n",
    "SIGNAL=[sig_coeffs[i].numpy() for i in range(len(sig_coeffs))]\n",
    "\n",
    "\n",
    "print('Background coefficients : ', '\\n' , BCK , '\\n' )\n",
    "print('Signal coefficients : ' , '\\n' ,  SIGNAL , '\\n')\n",
    "events = bmfs.generate_background(BCK,1000,1000000)\n",
    "\n",
    "events_bck = bmfs.generate_background_mass(BCK)\n",
    "\n",
    "events_signal= bmfs.generate_signal_mass(SIGNAL)\n",
    "\n",
    "events = bmfs.generate_all(sig_coeffs, back_coeffs,events_total=100000, alpha = 0.8, poisson = False)"
   ]
  },
  {
   "cell_type": "code",
   "execution_count": 4,
   "metadata": {},
   "outputs": [],
   "source": [
    "x=np.linspace(0 , 10)\n"
   ]
  },
  {
   "cell_type": "code",
   "execution_count": 41,
   "metadata": {},
   "outputs": [
    {
     "ename": "NameError",
     "evalue": "name 'events_bck' is not defined",
     "output_type": "error",
     "traceback": [
      "\u001b[0;31m---------------------------------------------------------------------------\u001b[0m",
      "\u001b[0;31mNameError\u001b[0m                                 Traceback (most recent call last)",
      "\u001b[0;32m<ipython-input-41-b2c2d36ed744>\u001b[0m in \u001b[0;36m<module>\u001b[0;34m\u001b[0m\n\u001b[1;32m      6\u001b[0m \u001b[0;34m\u001b[0m\u001b[0m\n\u001b[1;32m      7\u001b[0m \u001b[0;32mfor\u001b[0m \u001b[0mj\u001b[0m \u001b[0;32min\u001b[0m \u001b[0mrange\u001b[0m\u001b[0;34m(\u001b[0m\u001b[0;36m5\u001b[0m\u001b[0;34m)\u001b[0m\u001b[0;34m:\u001b[0m\u001b[0;34m\u001b[0m\u001b[0;34m\u001b[0m\u001b[0m\n\u001b[0;32m----> 8\u001b[0;31m     \u001b[0mplt\u001b[0m\u001b[0;34m.\u001b[0m\u001b[0mhist\u001b[0m\u001b[0;34m(\u001b[0m\u001b[0;34m[\u001b[0m\u001b[0mevents_bck\u001b[0m\u001b[0;34m[\u001b[0m\u001b[0;34m:\u001b[0m\u001b[0;34m,\u001b[0m\u001b[0mj\u001b[0m\u001b[0;34m]\u001b[0m\u001b[0;34m.\u001b[0m\u001b[0mnumpy\u001b[0m\u001b[0;34m(\u001b[0m\u001b[0;34m)\u001b[0m \u001b[0;34m,\u001b[0m \u001b[0mevents_signal\u001b[0m\u001b[0;34m[\u001b[0m\u001b[0;34m:\u001b[0m\u001b[0;34m,\u001b[0m\u001b[0mj\u001b[0m\u001b[0;34m]\u001b[0m\u001b[0;34m.\u001b[0m\u001b[0mnumpy\u001b[0m\u001b[0;34m(\u001b[0m\u001b[0;34m)\u001b[0m\u001b[0;34m]\u001b[0m  \u001b[0;34m,\u001b[0m \u001b[0malpha\u001b[0m\u001b[0;34m=\u001b[0m\u001b[0;36m0.5\u001b[0m \u001b[0;34m,\u001b[0m  \u001b[0mbins\u001b[0m\u001b[0;34m=\u001b[0m\u001b[0;36m100\u001b[0m \u001b[0;34m,\u001b[0m\u001b[0mstacked\u001b[0m\u001b[0;34m=\u001b[0m\u001b[0;32mTrue\u001b[0m \u001b[0;34m,\u001b[0m \u001b[0mlabel\u001b[0m\u001b[0;34m=\u001b[0m\u001b[0mLabels\u001b[0m\u001b[0;34m)\u001b[0m\u001b[0;34m\u001b[0m\u001b[0;34m\u001b[0m\u001b[0m\n\u001b[0m\u001b[1;32m      9\u001b[0m     \u001b[0max\u001b[0m \u001b[0;34m=\u001b[0m \u001b[0mplt\u001b[0m\u001b[0;34m.\u001b[0m\u001b[0mgca\u001b[0m\u001b[0;34m(\u001b[0m\u001b[0;34m)\u001b[0m\u001b[0;34m\u001b[0m\u001b[0;34m\u001b[0m\u001b[0m\n\u001b[1;32m     10\u001b[0m     \u001b[0max\u001b[0m\u001b[0;34m.\u001b[0m\u001b[0mset_xlabel\u001b[0m\u001b[0;34m(\u001b[0m\u001b[0mlabels\u001b[0m\u001b[0;34m[\u001b[0m\u001b[0mj\u001b[0m\u001b[0;34m]\u001b[0m \u001b[0;34m,\u001b[0m \u001b[0mfontsize\u001b[0m\u001b[0;34m=\u001b[0m\u001b[0;36m20\u001b[0m\u001b[0;34m)\u001b[0m\u001b[0;34m\u001b[0m\u001b[0;34m\u001b[0m\u001b[0m\n",
      "\u001b[0;31mNameError\u001b[0m: name 'events_bck' is not defined"
     ]
    }
   ],
   "source": [
    "#Plot the observables \n",
    "\n",
    "plt.rcParams[\"figure.figsize\"] = (20,10)\n",
    "Labels=['BCK' , 'SIGNAL']\n",
    "labels=[r'$q^{2}$' , r'cos$\\theta_{k}$' , r'cos$\\theta_{l}$' , r'$\\phi$' , r'$M_{K\\pi\\mu\\mu}$' ]\n",
    "\n",
    "for j in range(5):\n",
    "    plt.hist([events_bck[:,j].numpy() , events_signal[:,j].numpy()]  , alpha=0.5 ,  bins=100 ,stacked=True , label=Labels)\n",
    "    ax = plt.gca()\n",
    "    ax.set_xlabel(labels[j] , fontsize=20)\n",
    "    ax.set_ylabel('p' ,fontsize=20)\n",
    "    \n",
    "    ax.legend(fontsize=20)\n",
    "    plt.show()\n",
    "\n"
   ]
  },
  {
   "cell_type": "code",
   "execution_count": 6,
   "metadata": {},
   "outputs": [
    {
     "name": "stdout",
     "output_type": "stream",
     "text": [
      "tf.Tensor([0.01846055 0.30344918 0.31882244 ... 0.14223836 0.0005379  0.00288719], shape=(99999,), dtype=float32)\n"
     ]
    }
   ],
   "source": [
    "from itertools import islice \n",
    "import b_meson_fit.mass as mass\n",
    "import b_meson_fit.background as bkg\n",
    "\n",
    "\n",
    "Inputt = iter(coeffs) \n",
    "splits = [48,8,1,1,1]\n",
    "sig_coeffs,back_coeffs,[nbar_dat],[n_back],[alpha] = [list(islice(Inputt, elem)) for elem in splits] #this may break\n",
    "\n",
    "'''\n",
    "print(back_coeffs, '\\n')\n",
    "\n",
    "print(nbar_dat, '\\n')\n",
    "print(n_back, '\\n')\n",
    "print(alpha, '\\n')\n",
    "'''\n",
    "\n",
    "def signal_massTF(mass,mean = 4. ,sig = 1. ):\n",
    "    #print(mass)\n",
    "    ans = (tf.exp(-tf.math.square(mass - mean, 2.) / (2 * tf.math.square(sig, 2.))))/(sig*tf.math.sqrt(2*np.pi))\n",
    "    return tf.reshape(ans , [len(ans),])\n",
    "\n",
    "\n",
    "events_angles, events_mass = tf.split(events,[4,1],axis = 1)\n",
    "\n",
    "\n",
    "signal = bmfs.pdf(sig_coeffs,events_angles)\n",
    "masssss=signal_massTF(events_mass)\n",
    "XXX=tf.math.multiply(signal , masssss)\n",
    "\n",
    "#print(XXX)\n",
    "#print(events_mass)\n",
    "#print(signal)\n",
    "print(masssss)\n",
    "\n",
    "#*mass.signal_mass(events_mass)\n",
    "\n",
    "\n"
   ]
  },
  {
   "cell_type": "code",
   "execution_count": 8,
   "metadata": {},
   "outputs": [
    {
     "name": "stdout",
     "output_type": "stream",
     "text": [
      "[<tf.Variable 'a_para_l_re_alpha:0' shape=() dtype=float32, numpy=-4.1781025>, <tf.Variable 'a_para_l_re_beta:0' shape=() dtype=float32, numpy=-0.15184344>, <tf.Variable 'a_para_l_re_gamma:0' shape=() dtype=float32, numpy=6.8183246>, <tf.Variable 'a_para_l_im_alpha:0' shape=() dtype=float32, numpy=0.008585378>, <tf.Variable 'a_para_l_im_beta:0' shape=() dtype=float32, numpy=-0.0018230017>, <tf.Variable 'a_para_l_im_gamma:0' shape=() dtype=float32, numpy=0.4660742>, <tf.Variable 'a_para_r_re_alpha:0' shape=() dtype=float32, numpy=-0.23538125>, <tf.Variable 'a_para_r_re_beta:0' shape=() dtype=float32, numpy=-0.0043176315>, <tf.Variable 'a_para_r_re_gamma:0' shape=() dtype=float32, numpy=8.003745>, <tf.Variable 'a_para_r_im_alpha:0' shape=() dtype=float32, numpy=0.16564202>, <tf.Variable 'a_para_r_im_beta:0' shape=() dtype=float32, numpy=-0.013095878>, <tf.Variable 'a_para_r_im_gamma:0' shape=() dtype=float32, numpy=-0.30668017>, <tf.Variable 'a_perp_l_re_alpha:0' shape=() dtype=float32, numpy=3.8864067>, <tf.Variable 'a_perp_l_re_beta:0' shape=() dtype=float32, numpy=0.08526551>, <tf.Variable 'a_perp_l_re_gamma:0' shape=() dtype=float32, numpy=-8.197446>, <tf.Variable 'a_perp_l_im_alpha:0' shape=() dtype=float32, numpy=-0.09505176>, <tf.Variable 'a_perp_l_im_beta:0' shape=() dtype=float32, numpy=0.007934013>, <tf.Variable 'a_perp_l_im_gamma:0' shape=() dtype=float32, numpy=-0.07297003>, <tf.Variable 'a_perp_r_re_alpha:0' shape=() dtype=float32, numpy=-0.4235836>, <tf.Variable 'a_perp_r_re_beta:0' shape=() dtype=float32, numpy=0.027298994>, <tf.Variable 'a_perp_r_re_gamma:0' shape=() dtype=float32, numpy=-7.147451>, <tf.Tensor: id=2454, shape=(), dtype=float32, numpy=0.0>, <tf.Tensor: id=2456, shape=(), dtype=float32, numpy=0.0>, <tf.Tensor: id=2458, shape=(), dtype=float32, numpy=0.0>, <tf.Variable 'a_0_l_re_alpha:0' shape=() dtype=float32, numpy=7.202759>, <tf.Variable 'a_0_l_re_beta:0' shape=() dtype=float32, numpy=-0.2278163>, <tf.Variable 'a_0_l_re_gamma:0' shape=() dtype=float32, numpy=9.89863>, <tf.Tensor: id=2478, shape=(), dtype=float32, numpy=0.0>, <tf.Tensor: id=2480, shape=(), dtype=float32, numpy=0.0>, <tf.Tensor: id=2482, shape=(), dtype=float32, numpy=0.0>, <tf.Tensor: id=2484, shape=(), dtype=float32, numpy=0.0>, <tf.Tensor: id=2486, shape=(), dtype=float32, numpy=0.0>, <tf.Tensor: id=2488, shape=(), dtype=float32, numpy=0.0>, <tf.Tensor: id=2490, shape=(), dtype=float32, numpy=0.0>, <tf.Tensor: id=2492, shape=(), dtype=float32, numpy=0.0>, <tf.Tensor: id=2494, shape=(), dtype=float32, numpy=0.0>, <tf.Variable 'a_00_l_re_alpha:0' shape=() dtype=float32, numpy=1.0>, <tf.Tensor: id=2502, shape=(), dtype=float32, numpy=0.0>, <tf.Tensor: id=2504, shape=(), dtype=float32, numpy=0.0>, <tf.Variable 'a_00_l_im_alpha:0' shape=() dtype=float32, numpy=1.0>, <tf.Tensor: id=2512, shape=(), dtype=float32, numpy=0.0>, <tf.Tensor: id=2514, shape=(), dtype=float32, numpy=0.0>, <tf.Variable 'a_00_r_re_alpha:0' shape=() dtype=float32, numpy=1.0>, <tf.Tensor: id=2522, shape=(), dtype=float32, numpy=0.0>, <tf.Tensor: id=2524, shape=(), dtype=float32, numpy=0.0>, <tf.Variable 'a_00_r_im_alpha:0' shape=() dtype=float32, numpy=1.0>, <tf.Tensor: id=2532, shape=(), dtype=float32, numpy=0.0>, <tf.Tensor: id=2534, shape=(), dtype=float32, numpy=0.0>]\n",
      "[<tf.Tensor: id=10, shape=(), dtype=float32, numpy=55.0>, <tf.Tensor: id=11, shape=(), dtype=float32, numpy=10.0>, <tf.Tensor: id=12, shape=(), dtype=float32, numpy=100.0>, <tf.Tensor: id=13, shape=(), dtype=float32, numpy=80.0>, <tf.Tensor: id=14, shape=(), dtype=float32, numpy=100.0>, <tf.Tensor: id=15, shape=(), dtype=float32, numpy=80.0>, <tf.Tensor: id=16, shape=(), dtype=float32, numpy=100.0>, <tf.Tensor: id=17, shape=(), dtype=float32, numpy=15.0>]\n",
      "[<tf.Tensor: id=2535, shape=(), dtype=float32, numpy=0.8>]\n",
      "[<tf.Tensor: id=2536, shape=(), dtype=int32, numpy=1000000>]\n",
      "[<tf.Variable 'Variable:0' shape=() dtype=int32, numpy=10000>]\n"
     ]
    },
    {
     "ename": "TypeError",
     "evalue": "can't multiply sequence by non-int of type 'list'",
     "output_type": "error",
     "traceback": [
      "\u001b[0;31m---------------------------------------------------------------------------\u001b[0m",
      "\u001b[0;31mTypeError\u001b[0m                                 Traceback (most recent call last)",
      "\u001b[0;32m<ipython-input-8-3f54220e7ef8>\u001b[0m in \u001b[0;36m<module>\u001b[0;34m\u001b[0m\n\u001b[1;32m     32\u001b[0m \u001b[0;34m\u001b[0m\u001b[0m\n\u001b[1;32m     33\u001b[0m     \u001b[0;32mreturn\u001b[0m \u001b[0;34m(\u001b[0m\u001b[0mlikelihood\u001b[0m \u001b[0;34m+\u001b[0m \u001b[0mpoisson_counting\u001b[0m\u001b[0;34m)\u001b[0m\u001b[0;34m\u001b[0m\u001b[0;34m\u001b[0m\u001b[0m\n\u001b[0;32m---> 34\u001b[0;31m \u001b[0mbmfs\u001b[0m\u001b[0;34m.\u001b[0m\u001b[0mexnll\u001b[0m\u001b[0;34m(\u001b[0m\u001b[0mcoeffs\u001b[0m\u001b[0;34m,\u001b[0m\u001b[0mevents\u001b[0m\u001b[0;34m)\u001b[0m\u001b[0;34m\u001b[0m\u001b[0;34m\u001b[0m\u001b[0m\n\u001b[0m\u001b[1;32m     35\u001b[0m \u001b[0mexnll\u001b[0m\u001b[0;34m(\u001b[0m\u001b[0mcoeffs\u001b[0m\u001b[0;34m,\u001b[0m\u001b[0mevents\u001b[0m\u001b[0;34m)\u001b[0m\u001b[0;34m\u001b[0m\u001b[0;34m\u001b[0m\u001b[0m\n",
      "\u001b[0;32m~/Desktop/ICL/Git_LHCb/b_meson_fit/signal.py\u001b[0m in \u001b[0;36mexnll\u001b[0;34m(coeffs, events)\u001b[0m\n\u001b[1;32m     41\u001b[0m     \u001b[0mEvents\u001b[0m\u001b[0;34m:\u001b[0m \u001b[0mNx5\u001b[0m\u001b[0;34m\u001b[0m\u001b[0;34m\u001b[0m\u001b[0m\n\u001b[1;32m     42\u001b[0m     \"\"\"\n\u001b[0;32m---> 43\u001b[0;31m     \u001b[0mn_sig\u001b[0m \u001b[0;34m=\u001b[0m \u001b[0mnbar_dat\u001b[0m\u001b[0;34m*\u001b[0m\u001b[0malpha\u001b[0m\u001b[0;34m\u001b[0m\u001b[0;34m\u001b[0m\u001b[0m\n\u001b[0m\u001b[1;32m     44\u001b[0m     \u001b[0mevents_angles\u001b[0m\u001b[0;34m,\u001b[0m \u001b[0mevents_mass\u001b[0m \u001b[0;34m=\u001b[0m \u001b[0mtf\u001b[0m\u001b[0;34m.\u001b[0m\u001b[0msplit\u001b[0m\u001b[0;34m(\u001b[0m\u001b[0mevents\u001b[0m\u001b[0;34m,\u001b[0m\u001b[0;34m[\u001b[0m\u001b[0;36m4\u001b[0m\u001b[0;34m,\u001b[0m\u001b[0;36m1\u001b[0m\u001b[0;34m]\u001b[0m\u001b[0;34m,\u001b[0m\u001b[0maxis\u001b[0m \u001b[0;34m=\u001b[0m \u001b[0;36m1\u001b[0m\u001b[0;34m)\u001b[0m\u001b[0;34m\u001b[0m\u001b[0;34m\u001b[0m\u001b[0m\n\u001b[1;32m     45\u001b[0m     \u001b[0msignal\u001b[0m \u001b[0;34m=\u001b[0m \u001b[0mpdf\u001b[0m\u001b[0;34m(\u001b[0m\u001b[0msig_coeffs\u001b[0m\u001b[0;34m,\u001b[0m\u001b[0mevents_angles\u001b[0m\u001b[0;34m)\u001b[0m\u001b[0;34m*\u001b[0m\u001b[0mmass\u001b[0m\u001b[0;34m.\u001b[0m\u001b[0msignal_mass\u001b[0m\u001b[0;34m(\u001b[0m\u001b[0mevents_mass\u001b[0m\u001b[0;34m)\u001b[0m\u001b[0;34m\u001b[0m\u001b[0;34m\u001b[0m\u001b[0m\n",
      "\u001b[0;31mTypeError\u001b[0m: can't multiply sequence by non-int of type 'list'"
     ]
    }
   ],
   "source": [
    "# check the exnll function \n",
    "\n",
    "\n",
    "\n",
    "def exnll(coeffs,events):\n",
    "    Inputt = iter(coeffs) \n",
    "    splits = [48,8,1,1,1]\n",
    "    sig_coeffs,back_coeffs,nbar_dat,n_back,alpha = [list(islice(Inputt, elem)) for elem in splits] #this may break\n",
    "\n",
    "    nbar_dat=(int(nbar_dat[0]))\n",
    "    n_back=(int(n_back[0]))\n",
    "    alpha=alpha[0]\n",
    "\n",
    "    \"\"\"\n",
    "    Extended likelihood fit: ref petredis, patel et all for more!\n",
    "    Events: Nx5\n",
    "    \"\"\"\n",
    "    n_sig = int(nbar_dat*alpha)\n",
    "    events_angles, events_mass = tf.split(events,[4,1],axis = 1)\n",
    "    \n",
    "    \n",
    "    signal = tf.math.multiply(bmfs.pdf(sig_coeffs,events_angles),mass.signal_mass(events_mass))\n",
    "    backg = tf.math.multiply(bkg.pdf(back_coeffs,events_angles),mass.background_mass(events_mass))\n",
    "\n",
    "    likelihood = -tf.reduce_sum(\n",
    "        tf.math.log(\n",
    "            n_sig*signal\n",
    "            +n_back*backg\n",
    "        )\n",
    "    )\n",
    "    poisson_counting = (-1*(tf.shape(events)[0].numpy())*tf.math.log(n_sig + n_back))+ n_sig + n_back\n",
    "\n",
    "    return (likelihood + poisson_counting)\n",
    "bmfs.exnll(coeffs,events)\n",
    "exnll(coeffs,events)"
   ]
  },
  {
   "cell_type": "code",
   "execution_count": 24,
   "metadata": {},
   "outputs": [],
   "source": [
    "coeffs = [*sig_coeffs,*back_coeffs,alpha,ndat,nback]\n"
   ]
  },
  {
   "cell_type": "markdown",
   "metadata": {},
   "source": [
    "# With background\n"
   ]
  },
  {
   "cell_type": "code",
   "execution_count": 43,
   "metadata": {},
   "outputs": [
    {
     "ename": "TypeError",
     "evalue": "Cannot iterate over a scalar tensor.",
     "output_type": "error",
     "traceback": [
      "\u001b[0;31m---------------------------------------------------------------------------\u001b[0m",
      "\u001b[0;31mTypeError\u001b[0m                                 Traceback (most recent call last)",
      "\u001b[0;32m<ipython-input-43-6f9f14f67c36>\u001b[0m in \u001b[0;36m<module>\u001b[0;34m\u001b[0m\n\u001b[1;32m      8\u001b[0m \u001b[0;34m\u001b[0m\u001b[0m\n\u001b[1;32m      9\u001b[0m \u001b[0;34m\u001b[0m\u001b[0m\n\u001b[0;32m---> 10\u001b[0;31m \u001b[0mevents\u001b[0m \u001b[0;34m=\u001b[0m \u001b[0mbmf\u001b[0m\u001b[0;34m.\u001b[0m\u001b[0msignal\u001b[0m\u001b[0;34m.\u001b[0m\u001b[0mgenerate_all\u001b[0m\u001b[0;34m(\u001b[0m\u001b[0msig_coeffs\u001b[0m\u001b[0;34m,\u001b[0m\u001b[0mback_coeffs\u001b[0m\u001b[0;34m,\u001b[0m\u001b[0mevents_total\u001b[0m\u001b[0;34m=\u001b[0m\u001b[0;36m10000\u001b[0m\u001b[0;34m)\u001b[0m\u001b[0;34m\u001b[0m\u001b[0;34m\u001b[0m\u001b[0m\n\u001b[0m\u001b[1;32m     11\u001b[0m \u001b[0;34m\u001b[0m\u001b[0m\n\u001b[1;32m     12\u001b[0m \u001b[0moptimizer\u001b[0m \u001b[0;34m=\u001b[0m \u001b[0mopt\u001b[0m\u001b[0;34m.\u001b[0m\u001b[0mOptimizer_Extended\u001b[0m\u001b[0;34m(\u001b[0m\u001b[0mcoeffs\u001b[0m\u001b[0;34m,\u001b[0m\u001b[0mevents\u001b[0m\u001b[0;34m)\u001b[0m\u001b[0;34m\u001b[0m\u001b[0;34m\u001b[0m\u001b[0m\n",
      "\u001b[0;32m~/Desktop/ICL/Git_LHCb/b_meson_fit/signal.py\u001b[0m in \u001b[0;36mgenerate_all\u001b[0;34m(sig_coeffs, back_coeffs, events_total, alpha, poisson)\u001b[0m\n\u001b[1;32m    151\u001b[0m         \u001b[0meventspoisson\u001b[0m \u001b[0;34m=\u001b[0m \u001b[0mevents_total\u001b[0m\u001b[0;34m\u001b[0m\u001b[0;34m\u001b[0m\u001b[0m\n\u001b[1;32m    152\u001b[0m     \u001b[0msig_events\u001b[0m \u001b[0;34m=\u001b[0m \u001b[0mgenerate_signal_mass\u001b[0m\u001b[0;34m(\u001b[0m\u001b[0msig_coeffs\u001b[0m\u001b[0;34m,\u001b[0m\u001b[0mevents_total\u001b[0m\u001b[0;34m=\u001b[0m\u001b[0mint\u001b[0m\u001b[0;34m(\u001b[0m\u001b[0malpha\u001b[0m\u001b[0;34m*\u001b[0m\u001b[0meventspoisson\u001b[0m\u001b[0;34m)\u001b[0m\u001b[0;34m)\u001b[0m\u001b[0;34m\u001b[0m\u001b[0;34m\u001b[0m\u001b[0m\n\u001b[0;32m--> 153\u001b[0;31m     \u001b[0mback_events\u001b[0m \u001b[0;34m=\u001b[0m \u001b[0mgenerate_background_mass\u001b[0m\u001b[0;34m(\u001b[0m\u001b[0mback_coeffs\u001b[0m\u001b[0;34m,\u001b[0m\u001b[0mevents_total\u001b[0m \u001b[0;34m=\u001b[0m \u001b[0mint\u001b[0m\u001b[0;34m(\u001b[0m\u001b[0;34m(\u001b[0m\u001b[0;36m1\u001b[0m\u001b[0;34m-\u001b[0m\u001b[0malpha\u001b[0m\u001b[0;34m)\u001b[0m\u001b[0;34m*\u001b[0m\u001b[0meventspoisson\u001b[0m\u001b[0;34m)\u001b[0m\u001b[0;34m)\u001b[0m\u001b[0;34m\u001b[0m\u001b[0;34m\u001b[0m\u001b[0m\n\u001b[0m\u001b[1;32m    154\u001b[0m     \u001b[0mevents\u001b[0m \u001b[0;34m=\u001b[0m \u001b[0mtf\u001b[0m\u001b[0;34m.\u001b[0m\u001b[0mconcat\u001b[0m\u001b[0;34m(\u001b[0m\u001b[0;34m[\u001b[0m\u001b[0msig_events\u001b[0m\u001b[0;34m,\u001b[0m\u001b[0mback_events\u001b[0m\u001b[0;34m]\u001b[0m\u001b[0;34m,\u001b[0m\u001b[0maxis\u001b[0m \u001b[0;34m=\u001b[0m \u001b[0;36m0\u001b[0m\u001b[0;34m)\u001b[0m\u001b[0;34m\u001b[0m\u001b[0;34m\u001b[0m\u001b[0m\n\u001b[1;32m    155\u001b[0m     \u001b[0;32mreturn\u001b[0m \u001b[0mevents\u001b[0m\u001b[0;34m\u001b[0m\u001b[0;34m\u001b[0m\u001b[0m\n",
      "\u001b[0;32m~/Desktop/ICL/Git_LHCb/b_meson_fit/signal.py\u001b[0m in \u001b[0;36mgenerate_background_mass\u001b[0;34m(coeffs, events_total, batch_size)\u001b[0m\n\u001b[1;32m    221\u001b[0m \u001b[0;34m\u001b[0m\u001b[0m\n\u001b[1;32m    222\u001b[0m \u001b[0;32mdef\u001b[0m \u001b[0mgenerate_background_mass\u001b[0m\u001b[0;34m(\u001b[0m\u001b[0mcoeffs\u001b[0m\u001b[0;34m,\u001b[0m \u001b[0mevents_total\u001b[0m\u001b[0;34m=\u001b[0m\u001b[0;36m100_000\u001b[0m\u001b[0;34m,\u001b[0m \u001b[0mbatch_size\u001b[0m\u001b[0;34m=\u001b[0m\u001b[0;36m10_000_000\u001b[0m\u001b[0;34m)\u001b[0m\u001b[0;34m:\u001b[0m\u001b[0;34m\u001b[0m\u001b[0;34m\u001b[0m\u001b[0m\n\u001b[0;32m--> 223\u001b[0;31m     \u001b[0mevents\u001b[0m \u001b[0;34m=\u001b[0m \u001b[0mgenerate_background\u001b[0m\u001b[0;34m(\u001b[0m\u001b[0mcoeffs\u001b[0m\u001b[0;34m,\u001b[0m\u001b[0mevents_total\u001b[0m\u001b[0;34m,\u001b[0m\u001b[0mbatch_size\u001b[0m\u001b[0;34m)\u001b[0m\u001b[0;34m\u001b[0m\u001b[0;34m\u001b[0m\u001b[0m\n\u001b[0m\u001b[1;32m    224\u001b[0m     \u001b[0mmassy\u001b[0m \u001b[0;34m=\u001b[0m \u001b[0mmass\u001b[0m\u001b[0;34m.\u001b[0m\u001b[0mbackground_mass_generator\u001b[0m\u001b[0;34m(\u001b[0m\u001b[0mevents_total\u001b[0m\u001b[0;34m)\u001b[0m\u001b[0;34m\u001b[0m\u001b[0;34m\u001b[0m\u001b[0m\n\u001b[1;32m    225\u001b[0m     \u001b[0mevents\u001b[0m \u001b[0;34m=\u001b[0m \u001b[0mtf\u001b[0m\u001b[0;34m.\u001b[0m\u001b[0mconcat\u001b[0m\u001b[0;34m(\u001b[0m\u001b[0;34m[\u001b[0m\u001b[0mevents\u001b[0m\u001b[0;34m,\u001b[0m\u001b[0mmassy\u001b[0m\u001b[0;34m]\u001b[0m\u001b[0;34m,\u001b[0m \u001b[0maxis\u001b[0m \u001b[0;34m=\u001b[0m \u001b[0;36m1\u001b[0m\u001b[0;34m)\u001b[0m\u001b[0;34m\u001b[0m\u001b[0;34m\u001b[0m\u001b[0m\n",
      "\u001b[0;32m~/Desktop/ICL/Git_LHCb/b_meson_fit/signal.py\u001b[0m in \u001b[0;36mgenerate_background\u001b[0;34m(coeffs, events_total, batch_size)\u001b[0m\n\u001b[1;32m    196\u001b[0m         )\n\u001b[1;32m    197\u001b[0m         \u001b[0;31m# Get a list of probabilities for each event with shape(batch_size,)\u001b[0m\u001b[0;34m\u001b[0m\u001b[0;34m\u001b[0m\u001b[0;34m\u001b[0m\u001b[0m\n\u001b[0;32m--> 198\u001b[0;31m         \u001b[0mprobabilities\u001b[0m \u001b[0;34m=\u001b[0m \u001b[0mbkg\u001b[0m\u001b[0;34m.\u001b[0m\u001b[0mpdfnorm\u001b[0m\u001b[0;34m(\u001b[0m\u001b[0mcoeffs\u001b[0m\u001b[0;34m,\u001b[0m\u001b[0mcandidates\u001b[0m\u001b[0;34m)\u001b[0m\u001b[0;34m\u001b[0m\u001b[0;34m\u001b[0m\u001b[0m\n\u001b[0m\u001b[1;32m    199\u001b[0m \u001b[0;34m\u001b[0m\u001b[0m\n\u001b[1;32m    200\u001b[0m         \u001b[0;31m# Get a uniform distribution of numbers between 0 and 1 with shape (batch_size,)\u001b[0m\u001b[0;34m\u001b[0m\u001b[0;34m\u001b[0m\u001b[0;34m\u001b[0m\u001b[0m\n",
      "\u001b[0;32m~/Desktop/ICL/Git_LHCb/b_meson_fit/background.py\u001b[0m in \u001b[0;36mpdfnorm\u001b[0;34m(coeffs, events)\u001b[0m\n\u001b[1;32m     19\u001b[0m \u001b[0;34m\u001b[0m\u001b[0m\n\u001b[1;32m     20\u001b[0m \u001b[0;32mdef\u001b[0m \u001b[0mpdfnorm\u001b[0m\u001b[0;34m(\u001b[0m\u001b[0mcoeffs\u001b[0m\u001b[0;34m,\u001b[0m\u001b[0mevents\u001b[0m\u001b[0;34m)\u001b[0m\u001b[0;34m:\u001b[0m\u001b[0;34m\u001b[0m\u001b[0;34m\u001b[0m\u001b[0m\n\u001b[0;32m---> 21\u001b[0;31m     \u001b[0mcoeffs\u001b[0m \u001b[0;34m=\u001b[0m \u001b[0;34m[\u001b[0m\u001b[0mtf\u001b[0m\u001b[0;34m.\u001b[0m\u001b[0mconstant\u001b[0m\u001b[0;34m(\u001b[0m\u001b[0mi\u001b[0m \u001b[0;34m,\u001b[0m \u001b[0mdtype\u001b[0m\u001b[0;34m=\u001b[0m\u001b[0;34m'float32'\u001b[0m\u001b[0;34m)\u001b[0m  \u001b[0;32mfor\u001b[0m \u001b[0mj\u001b[0m \u001b[0;32min\u001b[0m \u001b[0mcoeffs\u001b[0m \u001b[0;32mfor\u001b[0m \u001b[0mi\u001b[0m \u001b[0;32min\u001b[0m \u001b[0mj\u001b[0m\u001b[0;34m]\u001b[0m\u001b[0;34m\u001b[0m\u001b[0;34m\u001b[0m\u001b[0m\n\u001b[0m\u001b[1;32m     22\u001b[0m     \u001b[0mqmax\u001b[0m \u001b[0;34m=\u001b[0m \u001b[0;36m8\u001b[0m\u001b[0;34m\u001b[0m\u001b[0;34m\u001b[0m\u001b[0m\n\u001b[1;32m     23\u001b[0m     \u001b[0mqmin\u001b[0m \u001b[0;34m=\u001b[0m \u001b[0;36m1\u001b[0m\u001b[0;34m\u001b[0m\u001b[0;34m\u001b[0m\u001b[0m\n",
      "\u001b[0;32m~/Desktop/ICL/Git_LHCb/b_meson_fit/background.py\u001b[0m in \u001b[0;36m<listcomp>\u001b[0;34m(.0)\u001b[0m\n\u001b[1;32m     19\u001b[0m \u001b[0;34m\u001b[0m\u001b[0m\n\u001b[1;32m     20\u001b[0m \u001b[0;32mdef\u001b[0m \u001b[0mpdfnorm\u001b[0m\u001b[0;34m(\u001b[0m\u001b[0mcoeffs\u001b[0m\u001b[0;34m,\u001b[0m\u001b[0mevents\u001b[0m\u001b[0;34m)\u001b[0m\u001b[0;34m:\u001b[0m\u001b[0;34m\u001b[0m\u001b[0;34m\u001b[0m\u001b[0m\n\u001b[0;32m---> 21\u001b[0;31m     \u001b[0mcoeffs\u001b[0m \u001b[0;34m=\u001b[0m \u001b[0;34m[\u001b[0m\u001b[0mtf\u001b[0m\u001b[0;34m.\u001b[0m\u001b[0mconstant\u001b[0m\u001b[0;34m(\u001b[0m\u001b[0mi\u001b[0m \u001b[0;34m,\u001b[0m \u001b[0mdtype\u001b[0m\u001b[0;34m=\u001b[0m\u001b[0;34m'float32'\u001b[0m\u001b[0;34m)\u001b[0m  \u001b[0;32mfor\u001b[0m \u001b[0mj\u001b[0m \u001b[0;32min\u001b[0m \u001b[0mcoeffs\u001b[0m \u001b[0;32mfor\u001b[0m \u001b[0mi\u001b[0m \u001b[0;32min\u001b[0m \u001b[0mj\u001b[0m\u001b[0;34m]\u001b[0m\u001b[0;34m\u001b[0m\u001b[0;34m\u001b[0m\u001b[0m\n\u001b[0m\u001b[1;32m     22\u001b[0m     \u001b[0mqmax\u001b[0m \u001b[0;34m=\u001b[0m \u001b[0;36m8\u001b[0m\u001b[0;34m\u001b[0m\u001b[0;34m\u001b[0m\u001b[0m\n\u001b[1;32m     23\u001b[0m     \u001b[0mqmin\u001b[0m \u001b[0;34m=\u001b[0m \u001b[0;36m1\u001b[0m\u001b[0;34m\u001b[0m\u001b[0;34m\u001b[0m\u001b[0m\n",
      "\u001b[0;32m~/Desktop/ICL/Git_LHCb/venv/lib/python3.6/site-packages/tensorflow/python/framework/ops.py\u001b[0m in \u001b[0;36m__iter__\u001b[0;34m(self)\u001b[0m\n\u001b[1;32m    481\u001b[0m       \u001b[0;32mraise\u001b[0m \u001b[0mTypeError\u001b[0m\u001b[0;34m(\u001b[0m\u001b[0;34m\"Cannot iterate over a tensor with unknown shape.\"\u001b[0m\u001b[0;34m)\u001b[0m\u001b[0;34m\u001b[0m\u001b[0;34m\u001b[0m\u001b[0m\n\u001b[1;32m    482\u001b[0m     \u001b[0;32mif\u001b[0m \u001b[0;32mnot\u001b[0m \u001b[0mshape\u001b[0m\u001b[0;34m:\u001b[0m\u001b[0;34m\u001b[0m\u001b[0;34m\u001b[0m\u001b[0m\n\u001b[0;32m--> 483\u001b[0;31m       \u001b[0;32mraise\u001b[0m \u001b[0mTypeError\u001b[0m\u001b[0;34m(\u001b[0m\u001b[0;34m\"Cannot iterate over a scalar tensor.\"\u001b[0m\u001b[0;34m)\u001b[0m\u001b[0;34m\u001b[0m\u001b[0;34m\u001b[0m\u001b[0m\n\u001b[0m\u001b[1;32m    484\u001b[0m     \u001b[0;32mif\u001b[0m \u001b[0mshape\u001b[0m\u001b[0;34m[\u001b[0m\u001b[0;36m0\u001b[0m\u001b[0;34m]\u001b[0m \u001b[0;32mis\u001b[0m \u001b[0;32mNone\u001b[0m\u001b[0;34m:\u001b[0m\u001b[0;34m\u001b[0m\u001b[0;34m\u001b[0m\u001b[0m\n\u001b[1;32m    485\u001b[0m       raise TypeError(\n",
      "\u001b[0;31mTypeError\u001b[0m: Cannot iterate over a scalar tensor."
     ]
    }
   ],
   "source": [
    "\n",
    "sig_coeffs = bmf.coeffs.fit(initialization=bmf.coeffs.fit_initialization_same, current_signal_model=\"SM\")\n",
    "back_coeffs = background.back_coeffs_fit\n",
    "alpha = tf.constant(0.8, dtype = 'float32')\n",
    "ndat = tf.constant(10000, dtype = 'float32')\n",
    "nback = tf.Variable(2000, dtype = 'float32')\n",
    "\n",
    "coeffs = [*sig_coeffs,*back_coeffs,ndat,nback,alpha]\n",
    "\n",
    "\n",
    "events = bmf.signal.generate_all(sig_coeffs,back_coeffs,events_total=10000)\n",
    "\n",
    "optimizer = opt.Optimizer_Extended(coeffs,events)\n",
    "\n",
    "for i in range(10000000):\n",
    "    optimizer.minimize()\n",
    "    if optimizer.converged():\n",
    "        print(\"[optimizer.fit_coeffs.numpy()\")\n",
    "        break\n",
    "print(\"not converged\")"
   ]
  },
  {
   "cell_type": "markdown",
   "metadata": {},
   "source": [
    "# III ) Fitting with background signal "
   ]
  },
  {
   "cell_type": "code",
   "execution_count": null,
   "metadata": {},
   "outputs": [],
   "source": []
  },
  {
   "cell_type": "code",
   "execution_count": 42,
   "metadata": {},
   "outputs": [
    {
     "name": "stdout",
     "output_type": "stream",
     "text": [
      "\n",
      " Coeffs used for MC: [-4.1781025, -0.15184344, 6.8183246, 0.008585378, -0.0018230017, 0.4660742, -0.23538125, -0.0043176315, 8.003745, 0.16564202, -0.013095878, -0.30668017, 3.8864067, 0.08526551, -8.197446, -0.09505176, 0.007934013, -0.07297003, -0.4235836, 0.027298994, -7.147451, 0.0, 0.0, 0.0, 7.202759, -0.2278163, 9.89863, 0.0, 0.0, 0.0, 0.0, 0.0, 0.0, 0.0, 0.0, 0.0, 1.0, 0.0, 0.0, 1.0, 0.0, 0.0, 1.0, 0.0, 0.0, 1.0, 0.0, 0.0]\n",
      "Initial coeffs for tensorflow fit: [-4.1781025, -0.15184344, 6.8183246, 0.008585378, -0.0018230017, 0.4660742, -0.23538125, -0.0043176315, 8.003745, 0.16564202, -0.013095878, -0.30668017, 3.8864067, 0.08526551, -8.197446, -0.09505176, 0.007934013, -0.07297003, -0.4235836, 0.027298994, -7.147451, 0.0, 0.0, 0.0, 7.202759, -0.2278163, 9.89863, 0.0, 0.0, 0.0, 0.0, 0.0, 0.0, 0.0, 0.0, 0.0, 1.0, 0.0, 0.0, 1.0, 0.0, 0.0, 1.0, 0.0, 0.0, 1.0, 0.0, 0.0]\n",
      "\n",
      "  Fitted coefficients :  [-4.140053, -0.15184344, 6.8183246, -0.08432649, -0.0018230017, 0.4660742, -0.13008726, -0.0043176315, 8.003745, -0.123087525, -0.013095878, -0.30668017, 3.8835983, 0.08526551, -8.197446, -0.16204336, 0.007934013, -0.07297003, -0.16962849, 0.027298994, -7.147451, 0.0, 0.0, 0.0, 7.1378207, -0.2278163, 9.89863, 0.0, 0.0, 0.0, 0.0, 0.0, 0.0, 0.0, 0.0, 0.0, 1.105889, 0.0, 0.0, 0.9032597, 0.0, 0.0, 1.176622, 0.0, 0.0, 1.1901067, 0.0, 0.0]\n",
      "\n",
      " Time taken to fit : 4.676726579666138\n",
      "\n",
      " Coeffs used for MC: [-4.1781025, -0.15184344, 6.8183246, 0.008585378, -0.0018230017, 0.4660742, -0.23538125, -0.0043176315, 8.003745, 0.16564202, -0.013095878, -0.30668017, 3.8864067, 0.08526551, -8.197446, -0.09505176, 0.007934013, -0.07297003, -0.4235836, 0.027298994, -7.147451, 0.0, 0.0, 0.0, 7.202759, -0.2278163, 9.89863, 0.0, 0.0, 0.0, 0.0, 0.0, 0.0, 0.0, 0.0, 0.0, 1.0, 0.0, 0.0, 1.0, 0.0, 0.0, 1.0, 0.0, 0.0, 1.0, 0.0, 0.0]\n",
      "Initial coeffs for minuit fit: [-4.1781025, -0.15184344, 6.8183246, 0.008585378, -0.0018230017, 0.4660742, -0.23538125, -0.0043176315, 8.003745, 0.16564202, -0.013095878, -0.30668017, 3.8864067, 0.08526551, -8.197446, -0.09505176, 0.007934013, -0.07297003, -0.4235836, 0.027298994, -7.147451, 0.0, 0.0, 0.0, 7.202759, -0.2278163, 9.89863, 0.0, 0.0, 0.0, 0.0, 0.0, 0.0, 0.0, 0.0, 0.0, 1.0, 0.0, 0.0, 1.0, 0.0, 0.0, 1.0, 0.0, 0.0, 1.0, 0.0, 0.0]\n",
      "\n",
      "  Fitted coefficients :  [-4.153459690684049, -0.15184344351291656, 6.818324565887451, -0.07975134678605628, -0.0018230016576126218, 0.4660741984844208, -0.1414474845346291, -0.004317631479352713, 8.003745079040527, -0.14671638119447913, -0.013095878064632416, -0.30668017268180847, 3.868498351366329, 0.08526550978422165, -8.1974458694458, -0.17160181256588183, 0.00793401338160038, -0.07297003269195557, -0.15481207984679818, 0.02729899436235428, -7.147450923919678, 0.0, 0.0, 0.0, 7.124774580073897, -0.22781629860401154, 9.898630142211914, 0.0, 0.0, 0.0, 0.0, 0.0, 0.0, 0.0, 0.0, 0.0, 1.1032098428525694, 0.0, 0.0, 0.8910234487095955, 0.0, 0.0, 1.1914503628633772, 0.0, 0.0, 1.1682052661225435, 0.0, 0.0]\n",
      "\n",
      " Time taken to fit : 8.548351287841797\n"
     ]
    }
   ],
   "source": [
    "#perform fits using the migrad routine (minuit) and AMSGrad (tensorflow)\n",
    "FX=fix_alphas \n",
    "\n",
    "optimizerTF , coeffTF = toy_signalSM.tf_fit(init= 'DEFAULT' , fixed=FX , verbose=True )\n",
    "optimizeMigrad , coeffMigrad = toy_signalSM.minuitfit(init= 'DEFAULT' , fixed=FX , verbose=True)\n"
   ]
  },
  {
   "cell_type": "code",
   "execution_count": null,
   "metadata": {},
   "outputs": [],
   "source": []
  }
 ],
 "metadata": {
  "kernelspec": {
   "display_name": "Python 3.6.9 64-bit ('venv': venv)",
   "language": "python",
   "name": "python36964bitvenvvenvf09321a507e94b04bde580a7467d9826"
  },
  "language_info": {
   "codemirror_mode": {
    "name": "ipython",
    "version": 3
   },
   "file_extension": ".py",
   "mimetype": "text/x-python",
   "name": "python",
   "nbconvert_exporter": "python",
   "pygments_lexer": "ipython3",
   "version": "3.6.9"
  }
 },
 "nbformat": 4,
 "nbformat_minor": 4
}
