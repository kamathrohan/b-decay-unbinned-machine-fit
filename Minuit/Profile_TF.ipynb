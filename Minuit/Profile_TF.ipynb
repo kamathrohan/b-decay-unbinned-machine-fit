{
 "cells": [
  {
   "cell_type": "code",
   "execution_count": 153,
   "metadata": {},
   "outputs": [],
   "source": [
    "import sys \n",
    "sys.path.append('/home/pierre-edouard/Desktop/ICL/Git_LHCb')\n",
    "\n",
    "import numpy as np \n",
    "import tensorflow.compat.v2 as tf \n",
    "import matplotlib.pyplot as plt\n",
    "from scipy import stats\n",
    "from scipy import interpolate\n",
    "import time \n",
    "from tqdm import tqdm\n",
    "import csv \n",
    "\n",
    "import b_meson_fit.signal as bmfs  \n",
    "import b_meson_fit.coeffs as bmfc\n",
    "import b_meson_fit as bmf \n",
    "from toy_minuit import toy\n",
    "from test_iminuit import amplitude_latex_names ,amplitude_names, LaTex_labels , Standard_labels  , fix_array , fix_alphas , fix_one_alpha , fix_alpha_beta  ,fix_alpha_beta_gamma5\n",
    "tf.enable_v2_behavior()"
   ]
  },
  {
   "cell_type": "code",
   "execution_count": 154,
   "metadata": {},
   "outputs": [],
   "source": [
    "\n",
    "LaTex=LaTex_labels(amplitude_latex_names)\n",
    "Title=Standard_labels(amplitude_names)\n",
    "init_scheme   = bmf.coeffs.fit_initialization_same #fit_initialization_scheme_default #fit_initialization_any\n",
    "init_scheme_1 = bmf.coeffs.fit_initialization_scheme_default\n",
    "FIX=fix_array #fix_array #fix_alphas #fix_one_alpha #fix_alpha_beta #fix_alpha_beta_gamma1\n",
    "N=10000  \n",
    "\n",
    "toy1 = toy( model='SM')\n",
    "\n",
    "toy1.generate( events = N , verbose = False )\n",
    "A0=bmf.coeffs.fit(bmf.coeffs.fit_initialization_scheme_default , current_signal_model=toy1.model)\n",
    "Coeff0=[A0[i].numpy() for i in range(len(A0))]\n",
    "\n",
    "\n"
   ]
  },
  {
   "cell_type": "markdown",
   "metadata": {},
   "source": [
    "\n",
    "# Sanity check for alphas varying"
   ]
  },
  {
   "cell_type": "code",
   "execution_count": 231,
   "metadata": {
    "scrolled": true
   },
   "outputs": [
    {
     "name": "stdout",
     "output_type": "stream",
     "text": [
      "\n",
      " Coeffs used for MC: [-4.1781025, -0.15184344, 6.8183246, 0.008585378, -0.0018230017, 0.4660742, -0.23538125, -0.0043176315, 8.003745, 0.16564202, -0.013095878, -0.30668017, 3.8864067, 0.08526551, -8.197446, -0.09505176, 0.007934013, -0.07297003, -0.4235836, 0.027298994, -7.147451, 0.0, 0.0, 0.0, 7.202759, -0.2278163, 9.89863, 0.0, 0.0, 0.0, 0.0, 0.0, 0.0, 0.0, 0.0, 0.0, 1.0, 0.0, 0.0, 1.0, 0.0, 0.0, 1.0, 0.0, 0.0, 1.0, 0.0, 0.0]\n",
      "Initial coeffs for minuit fit: [-4.1781025, -0.15184344, 6.8183246, 0.008585378, -0.0018230017, 0.4660742, -0.23538125, -0.0043176315, 8.003745, 0.1412334936421189, -0.013095878, -0.30668017, 3.8864067, 0.08526551, -8.197446, -0.09505176, 0.007934013, -0.07297003, -0.4235836, 0.027298994, -7.147451, 0.0, 0.0, 0.0, 7.202759, -0.2278163, 9.89863, 0.0, 0.0, 0.0, 0.0, 0.0, 0.0, 0.0, 0.0, 0.0, 1.0, 0.0, 0.0, 1.0, 0.0, 0.0, 1.0, 0.0, 0.0, 1.0, 0.0, 0.0]\n",
      "\n",
      "  Fitted coefficients :  [-3.9850606626432508, -0.15184344351291656, 6.818324565887451, 0.008153070053425651, -0.0018230016576126218, 0.4660741984844208, -0.11903517899128879, -0.004317631479352713, 8.003745079040527, 0.320081712109692, -0.013095878064632416, -0.30668017268180847, 3.9812392827908667, 0.08526550978422165, -8.1974458694458, -0.23702442516415545, 0.00793401338160038, -0.07297003269195557, -0.43633708365142476, 0.02729899436235428, -7.147450923919678, 0.0, 0.0, 0.0, 7.125232179546186, -0.22781629860401154, 9.898630142211914, 0.0, 0.0, 0.0, 0.0, 0.0, 0.0, 0.0, 0.0, 0.0, 1.0527991393136065, 0.0, 0.0, 0.5568099914084168, 0.0, 0.0, 1.150610377510589, 0.0, 0.0, 1.2357548567052834, 0.0, 0.0]\n",
      "\n",
      " Time taken to fit : 6.987306356430054\n",
      "------------------------------------------------------------------\n",
      "| FCN = 4.779E+04               |     Ncalls=454 (465 total)     |\n",
      "| EDM = 2.94 (Goal: 5E-06)      |            up = 0.5            |\n",
      "------------------------------------------------------------------\n",
      "|  Valid Min.   | Valid Param.  | Above EDM | Reached call limit |\n",
      "------------------------------------------------------------------\n",
      "|     False     |     True      |   True    |       False        |\n",
      "------------------------------------------------------------------\n",
      "| Hesse failed  |   Has cov.    | Accurate  | Pos. def. | Forced |\n",
      "------------------------------------------------------------------\n",
      "|     False     |     True      |   False   |   False   |  True  |\n",
      "------------------------------------------------------------------\n"
     ]
    }
   ],
   "source": [
    "FIX=fix_alphas\n",
    "\n",
    "m , coef = toy1.minuitfit(Ncall=10000 , verbose=True , coefini=Coeff0 , fixed=FIX)\n",
    "print(m.get_fmin())\n",
    "B=[m.errors[i] for i in m.errors]\n",
    "B=np.array(B)"
   ]
  },
  {
   "cell_type": "code",
   "execution_count": 232,
   "metadata": {
    "scrolled": true
   },
   "outputs": [
    {
     "data": {
      "text/plain": [
       "[-4.1781025,\n",
       " -0.15184344,\n",
       " 6.8183246,\n",
       " 0.008585378,\n",
       " -0.0018230017,\n",
       " 0.4660742,\n",
       " -0.23538125,\n",
       " -0.0043176315,\n",
       " 8.003745,\n",
       " 0.16564202,\n",
       " -0.013095878,\n",
       " -0.30668017,\n",
       " 3.8864067,\n",
       " 0.08526551,\n",
       " -8.197446,\n",
       " -0.09505176,\n",
       " 0.007934013,\n",
       " -0.07297003,\n",
       " -0.4235836,\n",
       " 0.027298994,\n",
       " -7.147451,\n",
       " 0.0,\n",
       " 0.0,\n",
       " 0.0,\n",
       " 7.202759,\n",
       " -0.2278163,\n",
       " 9.89863,\n",
       " 0.0,\n",
       " 0.0,\n",
       " 0.0,\n",
       " 0.0,\n",
       " 0.0,\n",
       " 0.0,\n",
       " 0.0,\n",
       " 0.0,\n",
       " 0.0,\n",
       " 1.0,\n",
       " 0.0,\n",
       " 0.0,\n",
       " 1.0,\n",
       " 0.0,\n",
       " 0.0,\n",
       " 1.0,\n",
       " 0.0,\n",
       " 0.0,\n",
       " 1.0,\n",
       " 0.0,\n",
       " 0.0]"
      ]
     },
     "execution_count": 232,
     "metadata": {},
     "output_type": "execute_result"
    }
   ],
   "source": [
    "toy1.coeffs"
   ]
  },
  {
   "cell_type": "code",
   "execution_count": 259,
   "metadata": {
    "scrolled": true
   },
   "outputs": [
    {
     "name": "stdout",
     "output_type": "stream",
     "text": [
      "SANE\n",
      "-6.45220692032267 -1.517914404963832\n",
      "SANE\n",
      "-5.151843443512917 4.848156556487083\n",
      "SANE\n",
      "1.8183245658874512 11.818324565887451\n",
      "SANE\n",
      "-1.129625260278753 1.1459314003856043\n",
      "SANE\n",
      "-5.001823001657613 4.998176998342387\n",
      "SANE\n",
      "-4.533925801515579 5.466074198484421\n",
      "SANE\n",
      "-2.6254673163798743 2.387396958397297\n",
      "SANE\n",
      "-5.004317631479353 4.995682368520647\n",
      "SANE\n",
      "3.0037450790405273 13.003745079040527\n",
      "SANE\n",
      "-6.946297561859357 7.586460986078741\n",
      "SANE\n",
      "-5.013095878064632 4.986904121935368\n",
      "SANE\n",
      "-5.3066801726818085 4.6933198273181915\n",
      "SANE\n",
      "2.3919905667484103 5.570487998833324\n",
      "SANE\n",
      "-4.914734490215778 5.085265509784222\n",
      "SANE\n",
      "-13.1974458694458 -3.197445869445801\n",
      "SANE\n",
      "-5.225662047783411 4.7516131974551\n",
      "SANE\n",
      "-4.9920659866184 5.0079340133816\n",
      "SANE\n",
      "-5.072970032691956 4.927029967308044\n",
      "SANE\n",
      "-3.4598050417762525 2.5871308744734027\n",
      "SANE\n",
      "-4.972701005637646 5.027298994362354\n",
      "SANE\n",
      "-12.147450923919678 -2.1474509239196777\n",
      "SANE\n",
      "-5.0 5.0\n",
      "SANE\n",
      "-5.0 5.0\n",
      "SANE\n",
      "-5.0 5.0\n",
      "INSANE\n",
      "6.410575371299407 7.839888987792966\n",
      "SANE\n",
      "-5.2278162986040115 4.7721837013959885\n",
      "INSANE\n",
      "4.898630142211914 14.898630142211914\n",
      "SANE\n",
      "-5.0 5.0\n",
      "SANE\n",
      "-5.0 5.0\n",
      "SANE\n",
      "-5.0 5.0\n",
      "SANE\n",
      "-5.0 5.0\n",
      "SANE\n",
      "-5.0 5.0\n",
      "SANE\n",
      "-5.0 5.0\n",
      "SANE\n",
      "-5.0 5.0\n",
      "SANE\n",
      "-5.0 5.0\n",
      "SANE\n",
      "-5.0 5.0\n",
      "SANE\n",
      "0.8063252191291567 1.2992730594980562\n",
      "SANE\n",
      "-5.0 5.0\n",
      "SANE\n",
      "-5.0 5.0\n",
      "SANE\n",
      "-3.7073389138821247 4.820958896698959\n",
      "SANE\n",
      "-5.0 5.0\n",
      "SANE\n",
      "-5.0 5.0\n",
      "SANE\n",
      "-2.203444588574418 4.504665343595596\n",
      "SANE\n",
      "-5.0 5.0\n",
      "SANE\n",
      "-5.0 5.0\n",
      "SANE\n",
      "-2.2108863704663895 4.682396083876957\n",
      "SANE\n",
      "-5.0 5.0\n",
      "SANE\n",
      "-5.0 5.0\n"
     ]
    }
   ],
   "source": [
    "n=20\n",
    "J=0\n",
    "idx=48\n",
    "Nmigrad=[100 , 500 , 1000 , 10000 ]\n",
    "\n",
    "X=[]\n",
    "for j in range(idx):\n",
    "    x0=m.values[j]\n",
    "    Dx=abs(x0-Coeff0[j])\n",
    "    \n",
    "    Dx_bis=abs(m.errors[j])\n",
    "    \n",
    "    \n",
    "    DL=20*Dx\n",
    "    DL_bis=10*Dx_bis\n",
    "    \n",
    "    lim_up=x0+DL/2\n",
    "    lim_down=x0-DL/2\n",
    "    \n",
    "    lim_up_bis=x0+DL_bis/2\n",
    "    lim_down_bis=x0-DL_bis/2\n",
    "\n",
    "    X.append(np.linspace(lim_down_bis,lim_up_bis,5))\n",
    "    \n",
    "    if Coeff0[j] <lim_up_bis and Coeff0[j] >lim_down_bis:\n",
    "        print('SANE')\n",
    "    else :\n",
    "        print('INSANE')\n",
    "    print(lim_down_bis , lim_up_bis)"
   ]
  },
  {
   "cell_type": "code",
   "execution_count": 260,
   "metadata": {},
   "outputs": [
    {
     "name": "stdout",
     "output_type": "stream",
     "text": [
      "[-2.230218, -0.17875159, 9.864201, 0.0039444286, -0.0002825081, 0.644669, -0.10914186, -0.001035464, 8.623938, 0.3536646, -0.024214976, -0.07606161, 4.982645, 0.084504135, -0.16223335, -0.22037594, 0.0058649434, -0.061742406, -0.6635492, 0.0048385034, -0.6697693, 0.0, 0.0, 0.0, 11.188855, -0.07063404, 9.392952, 0.0, 0.0, 0.0, 0.0, 0.0, 0.0, 0.0, 0.0, 0.0, 1.1128478, 0.0, 0.0, 1.4523096, 0.0, 0.0, 0.39872146, 0.0, 0.0, 0.45143914, 0.0, 0.0]\n",
      "[-4.1781025, -0.15184344, 6.8183246, 0.008585378, -0.0018230017, 0.4660742, -0.23538125, -0.0043176315, 8.003745, 0.16564202, -0.013095878, -0.30668017, 3.8864067, 0.08526551, -8.197446, -0.09505176, 0.007934013, -0.07297003, -0.4235836, 0.027298994, -7.147451, 0.0, 0.0, 0.0, 7.202759, -0.2278163, 9.89863, 0.0, 0.0, 0.0, 0.0, 0.0, 0.0, 0.0, 0.0, 0.0, 1.0, 0.0, 0.0, 1.0, 0.0, 0.0, 1.0, 0.0, 0.0, 1.0, 0.0, 0.0]\n"
     ]
    }
   ],
   "source": [
    "A=bmf.coeffs.fit(init_scheme , current_signal_model=toy1.model)\n",
    "A0=bmf.coeffs.fit(init_scheme_1 , current_signal_model=toy1.model)\n",
    "\n",
    "Coefbis=[A[i].numpy() for i in range(len(A0))]\n",
    "Coeff0=[A0[i].numpy() for i in range(len(A0))]\n",
    "\n",
    "print(Coefbis)\n",
    "print(Coeff0)"
   ]
  },
  {
   "cell_type": "code",
   "execution_count": null,
   "metadata": {
    "scrolled": true
   },
   "outputs": [
    {
     "name": "stdout",
     "output_type": "stream",
     "text": [
      "$\\alpha$(Re($A_{\\parallel}^L$))\n",
      "\n",
      " ## 1 ##\n",
      "47978.08\n",
      "\n",
      " ## 2 ##\n",
      "47849.047\n",
      "\n",
      " ## 3 ##\n",
      "47793.797\n",
      "\n",
      " ## 4 ##\n",
      "47847.67\n",
      "\n",
      " ## 5 ##\n",
      "47990.156\n",
      "Profile min : -3.980116481766138\n",
      "MC val : -4.1781025\n",
      "[-3.980116481766138, -0.15184344, 6.8183246, 0.008585378, -0.0018230017, 0.4660742, -0.23538125, -0.0043176315, 8.003745, 0.16564202, -0.013095878, -0.30668017, 3.8864067, 0.08526551, -8.197446, -0.09505176, 0.007934013, -0.07297003, -0.4235836, 0.027298994, -7.147451, 0.0, 0.0, 0.0, 7.202759, -0.2278163, 9.89863, 0.0, 0.0, 0.0, 0.0, 0.0, 0.0, 0.0, 0.0, 0.0, 1.0, 0.0, 0.0, 1.0, 0.0, 0.0, 1.0, 0.0, 0.0, 1.0, 0.0, 0.0]\n",
      "[-3.985060691833496, -0.15184344351291656, 6.818324565887451, 0.012477384880185127, -0.0018230016576126218, 0.4660741984844208, -0.1109224185347557, -0.004317631479352713, 8.003745079040527, 0.3089635968208313, -0.013095878064632416, -0.30668017268180847, 3.981541156768799, 0.08526550978422165, -8.1974458694458, -0.25375163555145264, 0.00793401338160038, -0.07297003269195557, -0.425242155790329, 0.02729899436235428, -7.147450923919678, 0.0, 0.0, 0.0, 7.124282360076904, -0.22781629860401154, 9.898630142211914, 0.0, 0.0, 0.0, 0.0, 0.0, 0.0, 0.0, 0.0, 0.0, 1.0519994497299194, 0.0, 0.0, 0.5590295791625977, 0.0, 0.0, 1.165890097618103, 0.0, 0.0, 1.2200716733932495, 0.0, 0.0]\n",
      "Migrad conv :  -3.985060691833496\n",
      "$\\beta$(Re($A_{\\parallel}^L$))\n",
      "$\\gamma$(Re($A_{\\parallel}^L$))\n",
      "$\\alpha$(Im($A_{\\parallel}^L$))\n",
      "\n",
      " ## 1 ##\n",
      "47868.34\n",
      "\n",
      " ## 2 ##\n",
      "47813.08\n",
      "\n",
      " ## 3 ##\n",
      "47793.812\n",
      "\n",
      " ## 4 ##\n",
      "47812.273\n",
      "\n",
      " ## 5 ##\n",
      "47865.43\n",
      "Profile min : 0.005872953158972516\n",
      "MC val : 0.008585378\n",
      "[-4.1781025, -0.15184344, 6.8183246, 0.005872953158972516, -0.0018230017, 0.4660742, -0.23538125, -0.0043176315, 8.003745, 0.16564202, -0.013095878, -0.30668017, 3.8864067, 0.08526551, -8.197446, -0.09505176, 0.007934013, -0.07297003, -0.4235836, 0.027298994, -7.147451, 0.0, 0.0, 0.0, 7.202759, -0.2278163, 9.89863, 0.0, 0.0, 0.0, 0.0, 0.0, 0.0, 0.0, 0.0, 0.0, 1.0, 0.0, 0.0, 1.0, 0.0, 0.0, 1.0, 0.0, 0.0, 1.0, 0.0, 0.0]\n",
      "[-3.9800097942352295, -0.15184344351291656, 6.818324565887451, 0.009543339893173044, -0.0018230016576126218, 0.4660741984844208, -0.11070561408996582, -0.004317631479352713, 8.003745079040527, 0.3113042988772916, -0.013095878064632416, -0.30668017268180847, 3.982504324549858, 0.08526550978422165, -8.1974458694458, -0.25309611282458594, 0.00793401338160038, -0.07297003269195557, -0.4238422941656157, 0.02729899436235428, -7.147450923919678, 0.0, 0.0, 0.0, 7.122050081033977, -0.22781629860401154, 9.898630142211914, 0.0, 0.0, 0.0, 0.0, 0.0, 0.0, 0.0, 0.0, 0.0, 1.051364541053772, 0.0, 0.0, 0.558982789516449, 0.0, 0.0, 1.1667964605946806, 0.0, 0.0, 1.2210063934326172, 0.0, 0.0]\n",
      "Migrad conv :  0.009543339893173044\n",
      "$\\beta$(Im($A_{\\parallel}^L$))\n",
      "$\\gamma$(Im($A_{\\parallel}^L$))\n",
      "$\\alpha$(Re($A_{\\parallel}^R$))\n",
      "\n",
      " ## 1 ##\n"
     ]
    }
   ],
   "source": [
    "#print(X)\n",
    "\n",
    "fx=fix_alphas\n",
    "#print(fx)\n",
    "\n",
    "\n",
    "\n",
    "#print(A)\n",
    "#idx=48\n",
    "idx=48\n",
    "#print(Coeff0)\n",
    "\n",
    "BIGNLLTF=[]\n",
    "BIGNLLM1=[]\n",
    "BIGNLLM2=[]\n",
    "BIGNLLM3=[]\n",
    "\n",
    "\n",
    "A=bmf.coeffs.fit(init_scheme , current_signal_model=toy1.model)\n",
    "A0=bmf.coeffs.fit(init_scheme_1 , current_signal_model=toy1.model)\n",
    "Coefbis=[A[i].numpy() for i in range(len(A0))]\n",
    "#print(Coefbis)\n",
    "\n",
    "\n",
    "conVal=[]\n",
    "\n",
    "for C in range(10):\n",
    "    #print(X[C])\n",
    "    print(LaTex[C])\n",
    "    if fx[C]==0:\n",
    "        \n",
    "        a=X[C]\n",
    "        BBYNLLTF=[]\n",
    "        BBYNLLM1=[]\n",
    "        BBYNLLM2=[]\n",
    "        BBYNLLM3=[]\n",
    "        memory=[]\n",
    "        \n",
    "        \n",
    "        Coeff0=[A0[i].numpy() for i in range(len(A0))]\n",
    "        initCoeff=Coeff0     \n",
    "        \n",
    "        #keep migrad classes in memory \n",
    "        M=[]\n",
    "\n",
    "        for j in range(len(X[C])):\n",
    "            \n",
    "            \n",
    "            print( '\\n', '##' , j+1 , '##')\n",
    "            #print(X[C])\n",
    "            \n",
    "            fix=fx[:]\n",
    "            fix[C]=1\n",
    "            \n",
    "            #print(Coeff0)\n",
    "            \n",
    "\n",
    "            \n",
    "            initCoeff[C]=a[j]\n",
    "            \n",
    "            #print(initCoeff)\n",
    "            #print(fix)\n",
    "            \n",
    "            \n",
    "            #MINUIT OPT\n",
    "            minuit , mCoeff = toy1.minuitfit(Ncall=1 , coefini=initCoeff , fixed=fix)\n",
    "            nllM1=toy1.NLL\n",
    "            BBYNLLM1.append(nllM1)\n",
    "            #print(nllM1)\n",
    "            \n",
    "            \n",
    "            #TF OPT\n",
    "            optimizer2 , tfCoeff2 =toy1.tf_fit( coefini=initCoeff , fixed=fix)\n",
    "            memory.append(tfCoeff2)\n",
    "            nlltf=toy1.NLL\n",
    "            BBYNLLTF.append(nlltf)\n",
    "            print(nlltf.numpy())\n",
    "            \n",
    "            \n",
    "        \n",
    "        #optTFend , tfCoeffTFend =toy1.minuitfit( coefini=a , fixed=fx)\n",
    "        #optimizerAll , tfCoeffAll =toy1.minuitfit(Ncall=10000, coefini=tfCoeffTFend , fixed=fx)\n",
    "        #conVal.append([optimizerAll.values[C], optimizerAll.errors[C]])\n",
    "        \n",
    "        \n",
    "        #interp profile \n",
    "        x=np.linspace(X[C][0] , X[C][-1], 500)\n",
    "        fTF = interpolate.interp1d(X[C], np.asarray(BBYNLLTF) , kind='cubic')\n",
    "        #def min and max \n",
    "        down=min(fTF(x))\n",
    "        up=max(fTF(x))\n",
    "        #find index of min \n",
    "        IDMIN = np.argwhere(np.diff(np.sign(fTF(x) - down))).flatten()\n",
    "        print('Profile min :' , x[IDMIN[0]])\n",
    "        print('MC val :' , toy1.coeffs[C])\n",
    "        \n",
    "        C_migrad=Coeff0\n",
    "        C_migrad[C]=x[IDMIN[0]]\n",
    "        print(C_migrad)\n",
    "        \n",
    "        \n",
    "        optimizerEND , tfCoeffEND =toy1.minuitfit( Ncall=10000 ,coefini=memory[np.argmin(BBYNLLTF)] , fixed=fx)\n",
    "        print(tfCoeffEND)\n",
    "        #print(optimizerEND.values ,optimizerEND.errors )\n",
    "        conVal.append([optimizerEND.values[C] , optimizerEND.errors[C]])\n",
    "        print('Migrad conv : ' , optimizerEND.values[C])\n",
    "        BIGNLLTF.append(BBYNLLTF)\n",
    "        BIGNLLM1.append(BBYNLLM1)   \n",
    "        \n",
    "print(conVal)\n"
   ]
  },
  {
   "cell_type": "code",
   "execution_count": 275,
   "metadata": {
    "scrolled": true
   },
   "outputs": [
    {
     "name": "stdout",
     "output_type": "stream",
     "text": [
      "5\n",
      "[[-4.145158715776962, 0.5366361648939232], [0.11174646103742847, 0.3599451853798388], [0.5571720968279494, 0.8308425338197891], [0.151530128111862, 0.46374866523974956]]\n",
      "-4.1781025\n",
      "0.008585378\n",
      "-0.23538125\n",
      "3.8864067\n",
      "-0.09505176\n",
      "-0.4235836\n",
      "7.202759\n",
      "1.0\n",
      "1.0\n",
      "1.0\n",
      "1.0\n"
     ]
    }
   ],
   "source": [
    "# save data !!!!!\n",
    "print(len(X[C]))\n",
    "print(conVal)\n",
    "k=0\n",
    "for j in range(48):\n",
    "    if fix[j]==0 and k<len(conVal) :\n",
    "        print(toy1.coeffs[j])\n",
    "        \n",
    "#for j in range(len(m.values)):\n",
    "    #print('MINUIT FIT' , m.values[j] , m.errors[j])"
   ]
  },
  {
   "cell_type": "code",
   "execution_count": 271,
   "metadata": {
    "scrolled": false
   },
   "outputs": [
    {
     "name": "stdout",
     "output_type": "stream",
     "text": [
      "MC val : -2.0919852\n",
      "Profile min : -4.17788371685066\n",
      "Final M val :\n"
     ]
    },
    {
     "data": {
      "image/png": "[encoded data removed]",
      "text/plain": [
       "<Figure size 432x288 with 1 Axes>"
      ]
     },
     "metadata": {
      "needs_background": "light"
     },
     "output_type": "display_data"
    },
    {
     "name": "stdout",
     "output_type": "stream",
     "text": [
      "MC val : 0.012777624\n",
      "Profile min : 0.2790182799339771\n",
      "Final M val :\n"
     ]
    },
    {
     "data": {
      "image/png": "[encoded data removed]",
      "text/plain": [
       "<Figure size 432x288 with 1 Axes>"
      ]
     },
     "metadata": {
      "needs_background": "light"
     },
     "output_type": "display_data"
    },
    {
     "ename": "ValueError",
     "evalue": "A value in x_new is below the interpolation range.",
     "output_type": "error",
     "traceback": [
      "\u001b[0;31m---------------------------------------------------------------------------\u001b[0m",
      "\u001b[0;31mValueError\u001b[0m                                Traceback (most recent call last)",
      "\u001b[0;32m<ipython-input-271-e58d1d8dff54>\u001b[0m in \u001b[0;36m<module>\u001b[0;34m\u001b[0m\n\u001b[1;32m     52\u001b[0m         \u001b[0mxconvright\u001b[0m\u001b[0;34m=\u001b[0m\u001b[0mconVal\u001b[0m\u001b[0;34m[\u001b[0m\u001b[0mk\u001b[0m\u001b[0;34m]\u001b[0m\u001b[0;34m[\u001b[0m\u001b[0;36m0\u001b[0m\u001b[0;34m]\u001b[0m\u001b[0;34m+\u001b[0m\u001b[0mconVal\u001b[0m\u001b[0;34m[\u001b[0m\u001b[0mk\u001b[0m\u001b[0;34m]\u001b[0m\u001b[0;34m[\u001b[0m\u001b[0;36m1\u001b[0m\u001b[0;34m]\u001b[0m\u001b[0;34m\u001b[0m\u001b[0;34m\u001b[0m\u001b[0m\n\u001b[1;32m     53\u001b[0m         \u001b[0mXXconv\u001b[0m\u001b[0;34m=\u001b[0m\u001b[0mnp\u001b[0m\u001b[0;34m.\u001b[0m\u001b[0mlinspace\u001b[0m\u001b[0;34m(\u001b[0m\u001b[0mxconvleft\u001b[0m\u001b[0;34m,\u001b[0m\u001b[0mxconvright\u001b[0m\u001b[0;34m)\u001b[0m\u001b[0;34m\u001b[0m\u001b[0;34m\u001b[0m\u001b[0m\n\u001b[0;32m---> 54\u001b[0;31m         \u001b[0max\u001b[0m\u001b[0;34m.\u001b[0m\u001b[0mfill_between\u001b[0m\u001b[0;34m(\u001b[0m\u001b[0mXXconv\u001b[0m \u001b[0;34m,\u001b[0m \u001b[0mfTF\u001b[0m\u001b[0;34m(\u001b[0m\u001b[0mXXconv\u001b[0m\u001b[0;34m)\u001b[0m\u001b[0;34m,\u001b[0m\u001b[0mup\u001b[0m   \u001b[0;34m,\u001b[0m \u001b[0malpha\u001b[0m\u001b[0;34m=\u001b[0m\u001b[0;36m0.3\u001b[0m \u001b[0;34m,\u001b[0m \u001b[0mcolor\u001b[0m\u001b[0;34m=\u001b[0m\u001b[0;34m'orange'\u001b[0m \u001b[0;34m,\u001b[0m \u001b[0mlabel\u001b[0m\u001b[0;34m=\u001b[0m\u001b[0;34mr'$68\\%$ CI'\u001b[0m\u001b[0;34m)\u001b[0m\u001b[0;34m\u001b[0m\u001b[0;34m\u001b[0m\u001b[0m\n\u001b[0m\u001b[1;32m     55\u001b[0m \u001b[0;34m\u001b[0m\u001b[0m\n\u001b[1;32m     56\u001b[0m \u001b[0;34m\u001b[0m\u001b[0m\n",
      "\u001b[0;32m~/Desktop/ICL/Git_LHCb/venv/lib/python3.6/site-packages/scipy/interpolate/polyint.py\u001b[0m in \u001b[0;36m__call__\u001b[0;34m(self, x)\u001b[0m\n\u001b[1;32m     77\u001b[0m         \"\"\"\n\u001b[1;32m     78\u001b[0m         \u001b[0mx\u001b[0m\u001b[0;34m,\u001b[0m \u001b[0mx_shape\u001b[0m \u001b[0;34m=\u001b[0m \u001b[0mself\u001b[0m\u001b[0;34m.\u001b[0m\u001b[0m_prepare_x\u001b[0m\u001b[0;34m(\u001b[0m\u001b[0mx\u001b[0m\u001b[0;34m)\u001b[0m\u001b[0;34m\u001b[0m\u001b[0;34m\u001b[0m\u001b[0m\n\u001b[0;32m---> 79\u001b[0;31m         \u001b[0my\u001b[0m \u001b[0;34m=\u001b[0m \u001b[0mself\u001b[0m\u001b[0;34m.\u001b[0m\u001b[0m_evaluate\u001b[0m\u001b[0;34m(\u001b[0m\u001b[0mx\u001b[0m\u001b[0;34m)\u001b[0m\u001b[0;34m\u001b[0m\u001b[0;34m\u001b[0m\u001b[0m\n\u001b[0m\u001b[1;32m     80\u001b[0m         \u001b[0;32mreturn\u001b[0m \u001b[0mself\u001b[0m\u001b[0;34m.\u001b[0m\u001b[0m_finish_y\u001b[0m\u001b[0;34m(\u001b[0m\u001b[0my\u001b[0m\u001b[0;34m,\u001b[0m \u001b[0mx_shape\u001b[0m\u001b[0;34m)\u001b[0m\u001b[0;34m\u001b[0m\u001b[0;34m\u001b[0m\u001b[0m\n\u001b[1;32m     81\u001b[0m \u001b[0;34m\u001b[0m\u001b[0m\n",
      "\u001b[0;32m~/Desktop/ICL/Git_LHCb/venv/lib/python3.6/site-packages/scipy/interpolate/interpolate.py\u001b[0m in \u001b[0;36m_evaluate\u001b[0;34m(self, x_new)\u001b[0m\n\u001b[1;32m    662\u001b[0m         \u001b[0my_new\u001b[0m \u001b[0;34m=\u001b[0m \u001b[0mself\u001b[0m\u001b[0;34m.\u001b[0m\u001b[0m_call\u001b[0m\u001b[0;34m(\u001b[0m\u001b[0mself\u001b[0m\u001b[0;34m,\u001b[0m \u001b[0mx_new\u001b[0m\u001b[0;34m)\u001b[0m\u001b[0;34m\u001b[0m\u001b[0;34m\u001b[0m\u001b[0m\n\u001b[1;32m    663\u001b[0m         \u001b[0;32mif\u001b[0m \u001b[0;32mnot\u001b[0m \u001b[0mself\u001b[0m\u001b[0;34m.\u001b[0m\u001b[0m_extrapolate\u001b[0m\u001b[0;34m:\u001b[0m\u001b[0;34m\u001b[0m\u001b[0;34m\u001b[0m\u001b[0m\n\u001b[0;32m--> 664\u001b[0;31m             \u001b[0mbelow_bounds\u001b[0m\u001b[0;34m,\u001b[0m \u001b[0mabove_bounds\u001b[0m \u001b[0;34m=\u001b[0m \u001b[0mself\u001b[0m\u001b[0;34m.\u001b[0m\u001b[0m_check_bounds\u001b[0m\u001b[0;34m(\u001b[0m\u001b[0mx_new\u001b[0m\u001b[0;34m)\u001b[0m\u001b[0;34m\u001b[0m\u001b[0;34m\u001b[0m\u001b[0m\n\u001b[0m\u001b[1;32m    665\u001b[0m             \u001b[0;32mif\u001b[0m \u001b[0mlen\u001b[0m\u001b[0;34m(\u001b[0m\u001b[0my_new\u001b[0m\u001b[0;34m)\u001b[0m \u001b[0;34m>\u001b[0m \u001b[0;36m0\u001b[0m\u001b[0;34m:\u001b[0m\u001b[0;34m\u001b[0m\u001b[0;34m\u001b[0m\u001b[0m\n\u001b[1;32m    666\u001b[0m                 \u001b[0;31m# Note fill_value must be broadcast up to the proper size\u001b[0m\u001b[0;34m\u001b[0m\u001b[0;34m\u001b[0m\u001b[0;34m\u001b[0m\u001b[0m\n",
      "\u001b[0;32m~/Desktop/ICL/Git_LHCb/venv/lib/python3.6/site-packages/scipy/interpolate/interpolate.py\u001b[0m in \u001b[0;36m_check_bounds\u001b[0;34m(self, x_new)\u001b[0m\n\u001b[1;32m    691\u001b[0m         \u001b[0;31m# !! Could provide more information about which values are out of bounds\u001b[0m\u001b[0;34m\u001b[0m\u001b[0;34m\u001b[0m\u001b[0;34m\u001b[0m\u001b[0m\n\u001b[1;32m    692\u001b[0m         \u001b[0;32mif\u001b[0m \u001b[0mself\u001b[0m\u001b[0;34m.\u001b[0m\u001b[0mbounds_error\u001b[0m \u001b[0;32mand\u001b[0m \u001b[0mbelow_bounds\u001b[0m\u001b[0;34m.\u001b[0m\u001b[0many\u001b[0m\u001b[0;34m(\u001b[0m\u001b[0;34m)\u001b[0m\u001b[0;34m:\u001b[0m\u001b[0;34m\u001b[0m\u001b[0;34m\u001b[0m\u001b[0m\n\u001b[0;32m--> 693\u001b[0;31m             raise ValueError(\"A value in x_new is below the interpolation \"\n\u001b[0m\u001b[1;32m    694\u001b[0m                              \"range.\")\n\u001b[1;32m    695\u001b[0m         \u001b[0;32mif\u001b[0m \u001b[0mself\u001b[0m\u001b[0;34m.\u001b[0m\u001b[0mbounds_error\u001b[0m \u001b[0;32mand\u001b[0m \u001b[0mabove_bounds\u001b[0m\u001b[0;34m.\u001b[0m\u001b[0many\u001b[0m\u001b[0;34m(\u001b[0m\u001b[0;34m)\u001b[0m\u001b[0;34m:\u001b[0m\u001b[0;34m\u001b[0m\u001b[0;34m\u001b[0m\u001b[0m\n",
      "\u001b[0;31mValueError\u001b[0m: A value in x_new is below the interpolation range."
     ]
    },
    {
     "data": {
      "image/png": "[encoded data removed]",
      "text/plain": [
       "<Figure size 432x288 with 1 Axes>"
      ]
     },
     "metadata": {
      "needs_background": "light"
     },
     "output_type": "display_data"
    }
   ],
   "source": [
    "k=0\n",
    "\n",
    "for j in range(len(fx)):\n",
    "    \n",
    "    \n",
    "    if fx[j]==0 and k < len(BIGNLLM1):\n",
    "        fig, ax = plt.subplots()\n",
    "\n",
    "        yM1=np.asarray(BIGNLLM1[k])/N\n",
    "        yTF=np.asarray(BIGNLLTF[k])/N \n",
    "\n",
    "\n",
    "        #plt.plot( yM1)\n",
    "        #plt.plot(yTF)\n",
    "        #print(X[0])\n",
    "        x=np.linspace(X[k][0] , X[k][-1], 500)\n",
    "        fM1 = interpolate.interp1d(X[k], yM1 , kind='cubic')\n",
    "        fTF = interpolate.interp1d(X[k], yTF , kind='cubic')\n",
    "        \n",
    "\n",
    "        plt.plot( x , fTF(x) , 'k--')\n",
    "\n",
    "        plt.xlabel(r'$\\beta $')\n",
    "\n",
    "\n",
    "        sig=0.5/N\n",
    "        down = min(fTF(x))\n",
    "        up = max(fTF(x))\n",
    "        ylim= down+1*sig\n",
    "        ID = np.argwhere(np.diff(np.sign(fTF(x) - ylim))).flatten()\n",
    "\n",
    "        \n",
    "        if len(ID) is 2:\n",
    "            xleft=x[ID[0]]\n",
    "\n",
    "            xright=x[ID[1]]\n",
    "            XX=np.linspace(xleft,xright)\n",
    "            ax.fill_between(XX , fTF(XX), up , alpha=0.15 , color='b', label=r'$68\\%$ CI')\n",
    "        if toy1.coeffs[j] < max(x) and toy1.coeffs[j] >min(x):\n",
    "            plt.plot(toy1.coeffs[j] ,fTF(toy1.coeffs[j]) , 'or')\n",
    "\n",
    "        \n",
    "        \n",
    "        IDMIN = np.argwhere(np.diff(np.sign(fTF(x) - down))).flatten()\n",
    "        Xmin=IDMIN[0]\n",
    "        Coefbis=[A[i].numpy() for i in range(len(A0))]\n",
    "        #print(Coeff0)      \n",
    "        \n",
    "        \n",
    "        \n",
    "        xconvleft=conVal[k][0]-conVal[k][1]\n",
    "        xconvright=conVal[k][0]+conVal[k][1]\n",
    "        XXconv=np.linspace(xconvleft,xconvright)\n",
    "        ax.fill_between(XXconv , fTF(XXconv),up   , alpha=0.3 , color='orange' , label=r'$68\\%$ CI')\n",
    "        \n",
    "        \n",
    "        xconvleftB=optimizerEND.values[j]-optimizerEND.errors[j]\n",
    "        xconvrightB=optimizerEND.values[j]+optimizerEND.errors[j]\n",
    "        XXconvB=np.linspace(xconvleftB,xconvrightB)        \n",
    "        #ax.fill_between(XXconvB , fTF(XXconvB),up   , alpha=0.3 , color='orange' , label=r'$68\\%$ CI')\n",
    "        \n",
    "        \n",
    "        print('MC val :' , Coeff0[j])\n",
    "        print('Profile min :' , x[IDMIN[0]])\n",
    "        print('Final M val :'   )\n",
    "        plt.xlabel(LaTex[j])\n",
    "        plt.ylabel(r'$-log \\mathcal{L}$')\n",
    "        plt.show()\n",
    "        #plt.legend()\n",
    "        k+=1\n",
    "\n",
    "#print(toy1.coeffs[0])\n",
    "#print(conVal)\n"
   ]
  },
  {
   "cell_type": "code",
   "execution_count": 11,
   "metadata": {},
   "outputs": [
    {
     "name": "stdout",
     "output_type": "stream",
     "text": [
      "#b41f21\n",
      "[29]\n"
     ]
    },
    {
     "ename": "IndexError",
     "evalue": "index 1 is out of bounds for axis 0 with size 1",
     "output_type": "error",
     "traceback": [
      "\u001b[0;31m---------------------------------------------------------------------------\u001b[0m",
      "\u001b[0;31mIndexError\u001b[0m                                Traceback (most recent call last)",
      "\u001b[0;32m<ipython-input-11-29059cb232ac>\u001b[0m in \u001b[0;36m<module>\u001b[0;34m\u001b[0m\n\u001b[1;32m     75\u001b[0m \u001b[0;34m\u001b[0m\u001b[0m\n\u001b[1;32m     76\u001b[0m \u001b[0mt\u001b[0m\u001b[0;34m=\u001b[0m\u001b[0mfTF\u001b[0m\u001b[0;34m(\u001b[0m\u001b[0mx\u001b[0m\u001b[0;34m)\u001b[0m\u001b[0;34m\u001b[0m\u001b[0;34m\u001b[0m\u001b[0m\n\u001b[0;32m---> 77\u001b[0;31m \u001b[0mgradient_fill\u001b[0m\u001b[0;34m(\u001b[0m\u001b[0mx\u001b[0m \u001b[0;34m,\u001b[0m \u001b[0mt\u001b[0m\u001b[0;34m)\u001b[0m\u001b[0;34m\u001b[0m\u001b[0;34m\u001b[0m\u001b[0m\n\u001b[0m\u001b[1;32m     78\u001b[0m \u001b[0;34m\u001b[0m\u001b[0m\n\u001b[1;32m     79\u001b[0m \u001b[0;34m\u001b[0m\u001b[0m\n",
      "\u001b[0;32m<ipython-input-11-29059cb232ac>\u001b[0m in \u001b[0;36mgradient_fill\u001b[0;34m(x, y, fill_color, ax, **kwargs)\u001b[0m\n\u001b[1;32m     56\u001b[0m \u001b[0;34m\u001b[0m\u001b[0m\n\u001b[1;32m     57\u001b[0m     \u001b[0mxleft\u001b[0m \u001b[0;34m=\u001b[0m \u001b[0mx\u001b[0m\u001b[0;34m[\u001b[0m\u001b[0midx\u001b[0m\u001b[0;34m[\u001b[0m\u001b[0;36m0\u001b[0m\u001b[0;34m]\u001b[0m\u001b[0;34m]\u001b[0m\u001b[0;34m\u001b[0m\u001b[0;34m\u001b[0m\u001b[0m\n\u001b[0;32m---> 58\u001b[0;31m     \u001b[0mxright\u001b[0m \u001b[0;34m=\u001b[0m \u001b[0mx\u001b[0m\u001b[0;34m[\u001b[0m\u001b[0midx\u001b[0m\u001b[0;34m[\u001b[0m\u001b[0;36m1\u001b[0m\u001b[0;34m]\u001b[0m\u001b[0;34m]\u001b[0m\u001b[0;34m\u001b[0m\u001b[0;34m\u001b[0m\u001b[0m\n\u001b[0m\u001b[1;32m     59\u001b[0m \u001b[0;34m\u001b[0m\u001b[0m\n\u001b[1;32m     60\u001b[0m \u001b[0;34m\u001b[0m\u001b[0m\n",
      "\u001b[0;31mIndexError\u001b[0m: index 1 is out of bounds for axis 0 with size 1"
     ]
    },
    {
     "data": {
      "image/png": "[encoded data removed]",
      "text/plain": [
       "<Figure size 432x288 with 1 Axes>"
      ]
     },
     "metadata": {
      "needs_background": "light"
     },
     "output_type": "display_data"
    }
   ],
   "source": [
    "# stolen from https://stackoverflow.com/questions/29321835/is-it-possible-to-get-color-gradients-under-curve-in-matplotlib lol\n",
    "import matplotlib.colors as mcolors\n",
    "from matplotlib.patches import Polygon\n",
    "\n",
    "def gradient_fill(x, y, fill_color=None, ax=None, **kwargs):\n",
    "    \"\"\"\n",
    "    Plot a line with a linear alpha gradient filled beneath it.\n",
    "\n",
    "    Parameters\n",
    "    ----------\n",
    "    x, y : array-like\n",
    "        The data values of the line.\n",
    "    fill_color : a matplotlib color specifier (string, tuple) or None\n",
    "        The color for the fill. If None, the color of the line will be used.\n",
    "    ax : a matplotlib Axes instance\n",
    "        The axes to plot on. If None, the current pyplot axes will be used.\n",
    "    Additional arguments are passed on to matplotlib's ``plot`` function.\n",
    "\n",
    "    Returns\n",
    "    -------\n",
    "    line : a Line2D instance\n",
    "        The line plotted.\n",
    "    im : an AxesImage instance\n",
    "        The transparent gradient clipped to just the area beneath the curve.\n",
    "    \"\"\"\n",
    "    if ax is None:\n",
    "        ax = plt.gca()\n",
    "\n",
    "    line, = ax.plot(x, y)\n",
    "    if fill_color is None:\n",
    "        fill_color = line.get_color()\n",
    "        \n",
    "    fill_color='#b41f21'\n",
    "    print(fill_color)\n",
    "    zorder = line.get_zorder()\n",
    "    alpha = line.get_alpha()\n",
    "    alpha = 0.8 if alpha is None else alpha\n",
    "\n",
    "    z = np.empty((100, 1, 4), dtype=float)\n",
    "    rgb = mcolors.colorConverter.to_rgb(fill_color)\n",
    "    z[:,:,:3] = rgb\n",
    "    z[:,:,-1] = np.linspace(0, alpha, 100)[:,None]\n",
    "\n",
    "    xmin, xmax, ymin, ymax = x.min(), x.max(), y.min(), y.max()\n",
    "    yint=ymax-fTF(xmin)\n",
    "    im = ax.imshow(z, aspect='auto', extent=[xmin, xmax, ymin, ymax],\n",
    "                   origin='upper', zorder=zorder )\n",
    "    \n",
    "\n",
    "    ylim=ymin+2*sig\n",
    "    idx = np.argwhere(np.diff(np.sign(fTF(x) - ylim))).flatten()\n",
    "    print(idx)   \n",
    "    #plt.plot(x[idx[0]] , y[idx[0]] , 'or')\n",
    "    #plt.plot(x[idx[1]] , y[idx[1]] , 'or')\n",
    "    \n",
    "    \n",
    "    xleft = x[idx[0]]\n",
    "    xright = x[idx[1]]\n",
    "\n",
    "    \n",
    "    yeff=y[idx[0]: idx[1]]\n",
    "    xeff=x[idx[0]: idx[1]]\n",
    "    \n",
    "    \n",
    "    xy = np.column_stack([xeff, yeff])\n",
    "    xy = np.vstack([[xleft, ylim], xy, [xright, ylim]])\n",
    "    clip_path = Polygon(xy , facecolor='none', edgecolor='none', closed=True)\n",
    "    print(clip_path)\n",
    "    ax.add_patch(clip_path)\n",
    "    im.set_clip_path(clip_path)\n",
    "\n",
    "    ax.autoscale(False)\n",
    "    return line, im\n",
    "\n",
    "\n",
    "t=fTF(x)\n",
    "gradient_fill(x , t)\n",
    "\n",
    "\n",
    "\n",
    "plt.show()"
   ]
  },
  {
   "cell_type": "code",
   "execution_count": null,
   "metadata": {},
   "outputs": [],
   "source": []
  },
  {
   "cell_type": "code",
   "execution_count": 169,
   "metadata": {},
   "outputs": [
    {
     "name": "stdout",
     "output_type": "stream",
     "text": [
      "50\n"
     ]
    },
    {
     "ename": "TypeError",
     "evalue": "object of type 'int' has no len()",
     "output_type": "error",
     "traceback": [
      "\u001b[0;31m---------------------------------------------------------------------------\u001b[0m",
      "\u001b[0;31mTypeError\u001b[0m                                 Traceback (most recent call last)",
      "\u001b[0;32m<ipython-input-169-532aa0633c42>\u001b[0m in \u001b[0;36m<module>\u001b[0;34m\u001b[0m\n\u001b[1;32m      1\u001b[0m \u001b[0mprint\u001b[0m\u001b[0;34m(\u001b[0m\u001b[0mx\u001b[0m\u001b[0;34m)\u001b[0m\u001b[0;34m\u001b[0m\u001b[0;34m\u001b[0m\u001b[0m\n\u001b[0;32m----> 2\u001b[0;31m \u001b[0mNbData\u001b[0m \u001b[0;34m=\u001b[0m \u001b[0mlen\u001b[0m\u001b[0;34m(\u001b[0m\u001b[0mx\u001b[0m\u001b[0;34m)\u001b[0m\u001b[0;34m\u001b[0m\u001b[0;34m\u001b[0m\u001b[0m\n\u001b[0m\u001b[1;32m      3\u001b[0m \u001b[0mMaxBL\u001b[0m \u001b[0;34m=\u001b[0m \u001b[0;34m[\u001b[0m\u001b[0;34m[\u001b[0m\u001b[0mMaxBL\u001b[0m\u001b[0;34m]\u001b[0m \u001b[0;34m*\u001b[0m \u001b[0mNbData\u001b[0m \u001b[0;32mfor\u001b[0m \u001b[0mMaxBL\u001b[0m \u001b[0;32min\u001b[0m \u001b[0mrange\u001b[0m\u001b[0;34m(\u001b[0m\u001b[0;36m100\u001b[0m\u001b[0;34m)\u001b[0m\u001b[0;34m]\u001b[0m\u001b[0;34m\u001b[0m\u001b[0;34m\u001b[0m\u001b[0m\n\u001b[1;32m      4\u001b[0m \u001b[0mMax\u001b[0m \u001b[0;34m=\u001b[0m \u001b[0;34m[\u001b[0m\u001b[0mnp\u001b[0m\u001b[0;34m.\u001b[0m\u001b[0masarray\u001b[0m\u001b[0;34m(\u001b[0m\u001b[0mMaxBL\u001b[0m\u001b[0;34m[\u001b[0m\u001b[0mx\u001b[0m\u001b[0;34m]\u001b[0m\u001b[0;34m)\u001b[0m \u001b[0;32mfor\u001b[0m \u001b[0mx\u001b[0m \u001b[0;32min\u001b[0m \u001b[0mrange\u001b[0m\u001b[0;34m(\u001b[0m\u001b[0mlen\u001b[0m\u001b[0;34m(\u001b[0m\u001b[0mx\u001b[0m\u001b[0;34m)\u001b[0m\u001b[0;34m)\u001b[0m\u001b[0;34m]\u001b[0m\u001b[0;34m\u001b[0m\u001b[0;34m\u001b[0m\u001b[0m\n\u001b[1;32m      5\u001b[0m \u001b[0;34m\u001b[0m\u001b[0m\n",
      "\u001b[0;31mTypeError\u001b[0m: object of type 'int' has no len()"
     ]
    }
   ],
   "source": [
    "print(x)\n",
    "NbData = len(x)\n",
    "MaxBL = [[MaxBL] * NbData for MaxBL in range(100)]\n",
    "Max = [np.asarray(MaxBL[x]) for x in range(len(x))]\n",
    "\n",
    "for x in range (50, 100):\n",
    "   plt.fill_between(x, Max[x], fTF(x), where=yData >Max[x], facecolor='red', alpha=0.02)\n"
   ]
  },
  {
   "cell_type": "code",
   "execution_count": null,
   "metadata": {},
   "outputs": [],
   "source": [
    "a=[2 ,3 7 , 9 , 0  , 8 , 0]\n"
   ]
  }
 ],
 "metadata": {
  "kernelspec": {
   "display_name": "Python 3.6.8 64-bit ('venv': venv)",
   "language": "python",
   "name": "python36864bitvenvvenv318b9dee4a344198a8de1da646542f6f"
  },
  "language_info": {
   "codemirror_mode": {
    "name": "ipython",
    "version": 3
   },
   "file_extension": ".py",
   "mimetype": "text/x-python",
   "name": "python",
   "nbconvert_exporter": "python",
   "pygments_lexer": "ipython3",
   "version": "3.6.9"
  }
 },
 "nbformat": 4,
 "nbformat_minor": 4
}
