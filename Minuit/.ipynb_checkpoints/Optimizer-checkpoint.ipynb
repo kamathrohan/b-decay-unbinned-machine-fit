{
 "cells": [
  {
   "cell_type": "markdown",
   "metadata": {},
   "source": [
    "# Set path - Init "
   ]
  },
  {
   "cell_type": "code",
   "execution_count": 23,
   "metadata": {},
   "outputs": [],
   "source": [
    "import sys \n",
    "sys.path.append('/home/pierre-edouard/Desktop/ICL/Git_LHCb')\n",
    "\n",
    "import numpy as np \n",
    "import matplotlib.pyplot as plt\n",
    "from scipy import stats\n",
    "from scipy import interpolate\n",
    "import time \n",
    "from tqdm import tqdm\n",
    "import csv \n",
    "\n",
    "import b_meson_fit.signal as bmfs  \n",
    "import b_meson_fit as bmf \n",
    "from toy_minuit import toy\n",
    "from test_iminuit import amplitude_latex_names ,amplitude_names, LaTex_labels , Standard_labels  , fix_array , fix_alphas , fix_one_alpha , fix_alpha_beta  ,fix_alpha_beta_gamma5"
   ]
  },
  {
   "cell_type": "markdown",
   "metadata": {},
   "source": [
    "# I ) Fitting w/o background signal "
   ]
  },
  {
   "cell_type": "code",
   "execution_count": 2,
   "metadata": {},
   "outputs": [
    {
     "name": "stdout",
     "output_type": "stream",
     "text": [
      "Ideal coeffs for  SM  :  [-4.1781025, -0.15184344, 6.8183246, 0.008585378, -0.0018230017, 0.4660742, -0.23538125, -0.0043176315, 8.003745, 0.16564202, -0.013095878, -0.30668017, 3.8864067, 0.08526551, -8.197446, -0.09505176, 0.007934013, -0.07297003, -0.4235836, 0.027298994, -7.147451, 0.0, 0.0, 0.0, 7.202759, -0.2278163, 9.89863, 0.0, 0.0, 0.0, 0.0, 0.0, 0.0, 0.0, 0.0, 0.0, 1.0, 0.0, 0.0, 1.0, 0.0, 0.0, 1.0, 0.0, 0.0, 1.0, 0.0, 0.0]\n",
      "Time taken to generate data: 4.7234227657318115\n",
      "Ideal coeffs for  NP  :  [-3.4277496, -0.12410027, 6.045281, 0.009340614, -0.0019891937, 0.50341135, -0.25086978, -0.005180213, 8.636745, 0.22209263, -0.017419353, -0.5280673, 3.0646408, 0.078515366, -8.841145, -0.113660336, 0.00929356, -0.047615465, -0.933267, 0.016867112, -6.3185554, 0.0, 0.0, 0.0, 5.882883, -0.18442497, 8.101398, 0.0, 0.0, 0.0, 0.0, 0.0, 0.0, 0.0, 0.0, 0.0, 1.0, 0.0, 0.0, 1.0, 0.0, 0.0, 1.0, 0.0, 0.0, 1.0, 0.0, 0.0]\n",
      "Time taken to generate data: 4.515986204147339\n"
     ]
    }
   ],
   "source": [
    "#first we need to generate some data ...\n",
    "\n",
    "N_events=2400\n",
    "\n",
    "toy_signalSM=toy('SM')\n",
    "toy_signalNP=toy('NP')\n",
    "\n",
    "toy_signalSM.generate(events=N_events , verbose=True)\n",
    "toy_signalNP.generate(events=N_events , verbose=True)\n"
   ]
  },
  {
   "cell_type": "code",
   "execution_count": 3,
   "metadata": {},
   "outputs": [
    {
     "name": "stdout",
     "output_type": "stream",
     "text": [
      "tf.Tensor(\n",
      "[[ 3.6469097  -0.9850731   0.32508183 -3.1048012 ]\n",
      " [ 2.4013789   0.76681495  0.24875903  1.6663487 ]\n",
      " [ 7.358225   -0.25222182 -0.76783085  3.0958087 ]\n",
      " ...\n",
      " [ 1.5049248   0.80901885 -0.52647233 -1.1356258 ]\n",
      " [ 3.033986    0.09512901  0.04427576 -1.7190884 ]\n",
      " [ 3.510417    0.5630834  -0.73409414 -0.5794785 ]], shape=(2400, 4), dtype=float32)\n"
     ]
    }
   ],
   "source": [
    "print(toy_signalSM.events)"
   ]
  },
  {
   "cell_type": "code",
   "execution_count": 6,
   "metadata": {},
   "outputs": [
    {
     "name": "stdout",
     "output_type": "stream",
     "text": [
      "\n",
      " Coeffs used for MC: [-4.1781025, -0.15184344, 6.8183246, 0.008585378, -0.0018230017, 0.4660742, -0.23538125, -0.0043176315, 8.003745, 0.16564202, -0.013095878, -0.30668017, 3.8864067, 0.08526551, -8.197446, -0.09505176, 0.007934013, -0.07297003, -0.4235836, 0.027298994, -7.147451, 0.0, 0.0, 0.0, 7.202759, -0.2278163, 9.89863, 0.0, 0.0, 0.0, 0.0, 0.0, 0.0, 0.0, 0.0, 0.0, 1.0, 0.0, 0.0, 1.0, 0.0, 0.0, 1.0, 0.0, 0.0, 1.0, 0.0, 0.0]\n",
      "Initial coeffs for tensorflow fit: [-4.1781025, -0.15184344, 6.8183246, 0.008585378, -0.0018230017, 0.4660742, -0.23538125, -0.0043176315, 8.003745, 0.16564202, -0.013095878, -0.30668017, 3.8864067, 0.08526551, -8.197446, -0.09505176, 0.007934013, -0.07297003, -0.4235836, 0.027298994, -7.147451, 0.0, 0.0, 0.0, 7.202759, -0.2278163, 9.89863, 0.0, 0.0, 0.0, 0.0, 0.0, 0.0, 0.0, 0.0, 0.0, 1.0, 0.0, 0.0, 1.0, 0.0, 0.0, 1.0, 0.0, 0.0, 1.0, 0.0, 0.0]\n",
      "Time taken to fit : 3.640030860900879\n",
      "\n",
      "  Fitted coefficients :  [-4.280896, -0.15184344, 6.8183246, -0.038818292, -0.0018230017, 0.4660742, -0.022639211, -0.0043176315, 8.003745, -0.54829216, -0.013095878, -0.30668017, 3.8197546, 0.08526551, -8.197446, -0.1503807, 0.007934013, -0.07297003, 0.035419345, 0.027298994, -7.147451, 0.0, 0.0, 0.0, 7.7876134, -0.2278163, 9.89863, 0.0, 0.0, 0.0, 0.0, 0.0, 0.0, 0.0, 0.0, 0.0, 0.96673316, 0.0, 0.0, 0.73551863, 0.0, 0.0, 1.4214495, 0.0, 0.0, 0.3009579, 0.0, 0.0]\n",
      "\n",
      " Coeffs used for MC: [-4.1781025, -0.15184344, 6.8183246, 0.008585378, -0.0018230017, 0.4660742, -0.23538125, -0.0043176315, 8.003745, 0.16564202, -0.013095878, -0.30668017, 3.8864067, 0.08526551, -8.197446, -0.09505176, 0.007934013, -0.07297003, -0.4235836, 0.027298994, -7.147451, 0.0, 0.0, 0.0, 7.202759, -0.2278163, 9.89863, 0.0, 0.0, 0.0, 0.0, 0.0, 0.0, 0.0, 0.0, 0.0, 1.0, 0.0, 0.0, 1.0, 0.0, 0.0, 1.0, 0.0, 0.0, 1.0, 0.0, 0.0]\n",
      "Initial coeffs for minuit fit: [-4.1781025, -0.15184344, 6.8183246, 0.008585378, -0.0018230017, 0.4660742, -0.23538125, -0.0043176315, 8.003745, 0.16564202, -0.013095878, -0.30668017, 3.8864067, 0.08526551, -8.197446, -0.09505176, 0.007934013, -0.07297003, -0.4235836, 0.027298994, -7.147451, 0.0, 0.0, 0.0, 7.202759, -0.2278163, 9.89863, 0.0, 0.0, 0.0, 0.0, 0.0, 0.0, 0.0, 0.0, 0.0, 1.0, 0.0, 0.0, 1.0, 0.0, 0.0, 1.0, 0.0, 0.0, 1.0, 0.0, 0.0]\n",
      "Time taken to fit : 4.60369348526001\n",
      "\n",
      "  Fitted coefficients :  [-4.289209778932229, -0.15184344351291656, 6.818324565887451, -0.0449185138586744, -0.0018230016576126218, 0.4660741984844208, -0.04131211110582114, -0.004317631479352713, 8.003745079040527, -0.520847816352754, -0.013095878064632416, -0.30668017268180847, 3.831833042150784, 0.08526550978422165, -8.1974458694458, -0.15684763249329717, 0.00793401338160038, -0.07297003269195557, 0.008232452027463064, 0.02729899436235428, -7.147450923919678, 0.0, 0.0, 0.0, 7.8037024692058905, -0.22781629860401154, 9.898630142211914, 0.0, 0.0, 0.0, 0.0, 0.0, 0.0, 0.0, 0.0, 0.0, 0.961177469718468, 0.0, 0.0, 0.761449434747997, 0.0, 0.0, 1.4129982228362, 0.0, 0.0, 0.3085978858994435, 0.0, 0.0]\n"
     ]
    }
   ],
   "source": [
    "#perform fits using the migrad routine (minuit) and AMSGrad (tensorflow)\n",
    "FX=fix_alphas \n",
    "\n",
    "optimizerTF , coeffTF = toy_signalSM.tf_fit(init= 'DEFAULT' , fixed=FX , verbose=True )\n",
    "optimizeMigrad , coeffMigrad = toy_signalSM.minuitfit(init= 'DEFAULT' , fixed=FX , verbose=True)\n"
   ]
  },
  {
   "cell_type": "markdown",
   "metadata": {},
   "source": [
    "# II ) Testing data generation with background "
   ]
  },
  {
   "cell_type": "code",
   "execution_count": 26,
   "metadata": {},
   "outputs": [],
   "source": [
    "from b_meson_fit.optimizer_extended import Optimizer_Extended \n",
    "import b_meson_fit.background as background\n",
    "import tensorflow.compat.v2 as tf \n",
    "\n",
    "\n",
    "sig_coeffs = bmf.coeffs.fit(initialization=bmf.coeffs.fit_initialization_scheme_default, current_signal_model=\"SM\")\n",
    "back_coeffs = background.back_coeffs_fit\n",
    "alpha = tf.constant(0.8)\n",
    "ndat = tf.constant(1000000)\n",
    "nback = tf.Variable(10000)\n",
    "\n",
    "coeffs = [*sig_coeffs,*back_coeffs,alpha,ndat,nback]"
   ]
  },
  {
   "cell_type": "code",
   "execution_count": null,
   "metadata": {},
   "outputs": [
    {
     "name": "stdout",
     "output_type": "stream",
     "text": [
      "Background coefficients :  \n",
      " [55.0, 10.0, 100.0, 80.0, 100.0, 80.0, 100.0, 15.0]\n",
      "Signal coefficients :  \n",
      " [-4.1781025, -0.15184344, 6.8183246, 0.008585378, -0.0018230017, 0.4660742, -0.23538125, -0.0043176315, 8.003745, 0.16564202, -0.013095878, -0.30668017, 3.8864067, 0.08526551, -8.197446, -0.09505176, 0.007934013, -0.07297003, -0.4235836, 0.027298994, -7.147451, 0.0, 0.0, 0.0, 7.202759, -0.2278163, 9.89863, 0.0, 0.0, 0.0, 0.0, 0.0, 0.0, 0.0, 0.0, 0.0, 1.0, 0.0, 0.0, 1.0, 0.0, 0.0, 1.0, 0.0, 0.0, 1.0, 0.0, 0.0]\n"
     ]
    }
   ],
   "source": [
    "BCK=[back_coeffs[i].numpy() for i in range(len(back_coeffs))]\n",
    "SIGNAL=[sig_coeffs[i].numpy() for i in range(len(sig_coeffs))]\n",
    "\n",
    "\n",
    "print('Background coefficients : ', '\\n' , BCK , '\\n' )\n",
    "print('Signal coefficients : ' , '\\n' ,  SIGNAL , '\\n')\n",
    "events = bmfs.generate_background(BCK,1000,1000000)\n",
    "\n",
    "events_bck = bmfs.generate_background_mass(BCK)\n",
    "\n",
    "events_signal= bmfs.generate_signal_mass(SIGNAL)\n",
    "\n",
    "events = bmfs.generate_all(sig_coeffs, back_coeffs,events_total=100000, alpha = 0.8, poisson = False)"
   ]
  },
  {
   "cell_type": "code",
   "execution_count": 13,
   "metadata": {},
   "outputs": [
    {
     "data": {
      "image/png": "[encoded data removed]",
      "text/plain": [
       "<Figure size 432x288 with 1 Axes>"
      ]
     },
     "metadata": {
      "needs_background": "light"
     },
     "output_type": "display_data"
    }
   ],
   "source": [
    "plt.hist(events_bck[:,4] , bins=50)\n",
    "plt.show()"
   ]
  },
  {
   "cell_type": "code",
   "execution_count": 14,
   "metadata": {},
   "outputs": [
    {
     "data": {
      "image/png": "[encoded data removed]",
      "text/plain": [
       "<Figure size 432x288 with 1 Axes>"
      ]
     },
     "metadata": {
      "needs_background": "light"
     },
     "output_type": "display_data"
    }
   ],
   "source": [
    "plt.hist(events_signal[:,4] , bins=50)\n",
    "plt.show()"
   ]
  },
  {
   "cell_type": "code",
   "execution_count": 15,
   "metadata": {},
   "outputs": [
    {
     "data": {
      "image/png": "[encoded data removed]",
      "text/plain": [
       "<Figure size 432x288 with 1 Axes>"
      ]
     },
     "metadata": {
      "needs_background": "light"
     },
     "output_type": "display_data"
    }
   ],
   "source": [
    "plt.hist(events[:,4] , bins=50)\n",
    "plt.show()"
   ]
  },
  {
   "cell_type": "code",
   "execution_count": 29,
   "metadata": {},
   "outputs": [
    {
     "name": "stdout",
     "output_type": "stream",
     "text": [
      "[<tf.Variable 'a_para_l_re_alpha:0' shape=() dtype=float32, numpy=-4.1781025>, <tf.Variable 'a_para_l_re_beta:0' shape=() dtype=float32, numpy=-0.15184344>, <tf.Variable 'a_para_l_re_gamma:0' shape=() dtype=float32, numpy=6.8183246>, <tf.Variable 'a_para_l_im_alpha:0' shape=() dtype=float32, numpy=0.008585378>, <tf.Variable 'a_para_l_im_beta:0' shape=() dtype=float32, numpy=-0.0018230017>, <tf.Variable 'a_para_l_im_gamma:0' shape=() dtype=float32, numpy=0.4660742>, <tf.Variable 'a_para_r_re_alpha:0' shape=() dtype=float32, numpy=-0.23538125>, <tf.Variable 'a_para_r_re_beta:0' shape=() dtype=float32, numpy=-0.0043176315>, <tf.Variable 'a_para_r_re_gamma:0' shape=() dtype=float32, numpy=8.003745>, <tf.Variable 'a_para_r_im_alpha:0' shape=() dtype=float32, numpy=0.16564202>, <tf.Variable 'a_para_r_im_beta:0' shape=() dtype=float32, numpy=-0.013095878>, <tf.Variable 'a_para_r_im_gamma:0' shape=() dtype=float32, numpy=-0.30668017>, <tf.Variable 'a_perp_l_re_alpha:0' shape=() dtype=float32, numpy=3.8864067>, <tf.Variable 'a_perp_l_re_beta:0' shape=() dtype=float32, numpy=0.08526551>, <tf.Variable 'a_perp_l_re_gamma:0' shape=() dtype=float32, numpy=-8.197446>, <tf.Variable 'a_perp_l_im_alpha:0' shape=() dtype=float32, numpy=-0.09505176>, <tf.Variable 'a_perp_l_im_beta:0' shape=() dtype=float32, numpy=0.007934013>, <tf.Variable 'a_perp_l_im_gamma:0' shape=() dtype=float32, numpy=-0.07297003>, <tf.Variable 'a_perp_r_re_alpha:0' shape=() dtype=float32, numpy=-0.4235836>, <tf.Variable 'a_perp_r_re_beta:0' shape=() dtype=float32, numpy=0.027298994>, <tf.Variable 'a_perp_r_re_gamma:0' shape=() dtype=float32, numpy=-7.147451>, <tf.Tensor: id=22365, shape=(), dtype=float32, numpy=0.0>, <tf.Tensor: id=22367, shape=(), dtype=float32, numpy=0.0>, <tf.Tensor: id=22369, shape=(), dtype=float32, numpy=0.0>, <tf.Variable 'a_0_l_re_alpha:0' shape=() dtype=float32, numpy=7.202759>, <tf.Variable 'a_0_l_re_beta:0' shape=() dtype=float32, numpy=-0.2278163>, <tf.Variable 'a_0_l_re_gamma:0' shape=() dtype=float32, numpy=9.89863>, <tf.Tensor: id=22389, shape=(), dtype=float32, numpy=0.0>, <tf.Tensor: id=22391, shape=(), dtype=float32, numpy=0.0>, <tf.Tensor: id=22393, shape=(), dtype=float32, numpy=0.0>, <tf.Tensor: id=22395, shape=(), dtype=float32, numpy=0.0>, <tf.Tensor: id=22397, shape=(), dtype=float32, numpy=0.0>, <tf.Tensor: id=22399, shape=(), dtype=float32, numpy=0.0>, <tf.Tensor: id=22401, shape=(), dtype=float32, numpy=0.0>, <tf.Tensor: id=22403, shape=(), dtype=float32, numpy=0.0>, <tf.Tensor: id=22405, shape=(), dtype=float32, numpy=0.0>, <tf.Variable 'a_00_l_re_alpha:0' shape=() dtype=float32, numpy=1.0>, <tf.Tensor: id=22413, shape=(), dtype=float32, numpy=0.0>, <tf.Tensor: id=22415, shape=(), dtype=float32, numpy=0.0>, <tf.Variable 'a_00_l_im_alpha:0' shape=() dtype=float32, numpy=1.0>, <tf.Tensor: id=22423, shape=(), dtype=float32, numpy=0.0>, <tf.Tensor: id=22425, shape=(), dtype=float32, numpy=0.0>, <tf.Variable 'a_00_r_re_alpha:0' shape=() dtype=float32, numpy=1.0>, <tf.Tensor: id=22433, shape=(), dtype=float32, numpy=0.0>, <tf.Tensor: id=22435, shape=(), dtype=float32, numpy=0.0>, <tf.Variable 'a_00_r_im_alpha:0' shape=() dtype=float32, numpy=1.0>, <tf.Tensor: id=22443, shape=(), dtype=float32, numpy=0.0>, <tf.Tensor: id=22445, shape=(), dtype=float32, numpy=0.0>, <tf.Tensor: id=10, shape=(), dtype=float32, numpy=55.0>, <tf.Tensor: id=11, shape=(), dtype=float32, numpy=10.0>, <tf.Tensor: id=12, shape=(), dtype=float32, numpy=100.0>, <tf.Tensor: id=13, shape=(), dtype=float32, numpy=80.0>, <tf.Tensor: id=14, shape=(), dtype=float32, numpy=100.0>, <tf.Tensor: id=15, shape=(), dtype=float32, numpy=80.0>, <tf.Tensor: id=16, shape=(), dtype=float32, numpy=100.0>, <tf.Tensor: id=17, shape=(), dtype=float32, numpy=15.0>, <tf.Tensor: id=22446, shape=(), dtype=float32, numpy=0.8>, <tf.Tensor: id=22447, shape=(), dtype=int32, numpy=1000000>, <tf.Variable 'Variable:0' shape=() dtype=int32, numpy=10000>]\n"
     ]
    },
    {
     "ename": "TypeError",
     "evalue": "can't multiply sequence by non-int of type 'list'",
     "output_type": "error",
     "traceback": [
      "\u001b[0;31m---------------------------------------------------------------------------\u001b[0m",
      "\u001b[0;31mTypeError\u001b[0m                                 Traceback (most recent call last)",
      "\u001b[0;32m<ipython-input-29-edf5521026b3>\u001b[0m in \u001b[0;36m<module>\u001b[0;34m\u001b[0m\n\u001b[1;32m      1\u001b[0m \u001b[0mcoeffs\u001b[0m \u001b[0;34m=\u001b[0m \u001b[0;34m[\u001b[0m\u001b[0;34m*\u001b[0m\u001b[0msig_coeffs\u001b[0m\u001b[0;34m,\u001b[0m\u001b[0;34m*\u001b[0m\u001b[0mback_coeffs\u001b[0m\u001b[0;34m,\u001b[0m\u001b[0malpha\u001b[0m\u001b[0;34m,\u001b[0m\u001b[0mndat\u001b[0m\u001b[0;34m,\u001b[0m\u001b[0mnback\u001b[0m\u001b[0;34m]\u001b[0m\u001b[0;34m\u001b[0m\u001b[0;34m\u001b[0m\u001b[0m\n\u001b[1;32m      2\u001b[0m \u001b[0mprint\u001b[0m\u001b[0;34m(\u001b[0m\u001b[0mcoeffs\u001b[0m\u001b[0;34m)\u001b[0m\u001b[0;34m\u001b[0m\u001b[0;34m\u001b[0m\u001b[0m\n\u001b[0;32m----> 3\u001b[0;31m \u001b[0mOptimizer_Extended\u001b[0m\u001b[0;34m(\u001b[0m\u001b[0mcoeffs\u001b[0m \u001b[0;34m,\u001b[0m \u001b[0mevents\u001b[0m\u001b[0;34m)\u001b[0m\u001b[0;34m\u001b[0m\u001b[0;34m\u001b[0m\u001b[0m\n\u001b[0m",
      "\u001b[0;32m~/Desktop/ICL/Git_LHCb/b_meson_fit/optimizer_extended.py\u001b[0m in \u001b[0;36m__init__\u001b[0;34m(self, fit_coeffs, signal_events, opt_name, learning_rate, opt_params, grad_clip, grad_max_cutoff)\u001b[0m\n\u001b[1;32m     55\u001b[0m         \u001b[0mself\u001b[0m\u001b[0;34m.\u001b[0m\u001b[0mstep\u001b[0m \u001b[0;34m=\u001b[0m \u001b[0mtf\u001b[0m\u001b[0;34m.\u001b[0m\u001b[0mVariable\u001b[0m\u001b[0;34m(\u001b[0m\u001b[0;36m0\u001b[0m\u001b[0;34m,\u001b[0m \u001b[0mname\u001b[0m\u001b[0;34m=\u001b[0m\u001b[0;34m'global_step'\u001b[0m\u001b[0;34m,\u001b[0m \u001b[0mdtype\u001b[0m\u001b[0;34m=\u001b[0m\u001b[0mtf\u001b[0m\u001b[0;34m.\u001b[0m\u001b[0mint64\u001b[0m\u001b[0;34m,\u001b[0m \u001b[0mtrainable\u001b[0m\u001b[0;34m=\u001b[0m\u001b[0;32mFalse\u001b[0m\u001b[0;34m)\u001b[0m\u001b[0;34m\u001b[0m\u001b[0;34m\u001b[0m\u001b[0m\n\u001b[1;32m     56\u001b[0m \u001b[0;34m\u001b[0m\u001b[0m\n\u001b[0;32m---> 57\u001b[0;31m         \u001b[0mself\u001b[0m\u001b[0;34m.\u001b[0m\u001b[0mnormalized_nll\u001b[0m \u001b[0;34m=\u001b[0m \u001b[0mself\u001b[0m\u001b[0;34m.\u001b[0m\u001b[0m_normalized_nll\u001b[0m\u001b[0;34m(\u001b[0m\u001b[0;34m)\u001b[0m\u001b[0;34m\u001b[0m\u001b[0;34m\u001b[0m\u001b[0m\n\u001b[0m\u001b[1;32m     58\u001b[0m         \u001b[0mself\u001b[0m\u001b[0;34m.\u001b[0m\u001b[0mgrads\u001b[0m \u001b[0;34m=\u001b[0m \u001b[0;32mNone\u001b[0m\u001b[0;34m\u001b[0m\u001b[0;34m\u001b[0m\u001b[0m\n\u001b[1;32m     59\u001b[0m         \u001b[0mself\u001b[0m\u001b[0;34m.\u001b[0m\u001b[0mgrads2\u001b[0m \u001b[0;34m=\u001b[0m \u001b[0;32mNone\u001b[0m\u001b[0;34m\u001b[0m\u001b[0;34m\u001b[0m\u001b[0m\n",
      "\u001b[0;32m~/Desktop/ICL/Git_LHCb/b_meson_fit/optimizer_extended.py\u001b[0m in \u001b[0;36m_normalized_nll\u001b[0;34m(self)\u001b[0m\n\u001b[1;32m    102\u001b[0m             \u001b[0mScalar\u001b[0m \u001b[0mtensor\u001b[0m\u001b[0;34m\u001b[0m\u001b[0;34m\u001b[0m\u001b[0m\n\u001b[1;32m    103\u001b[0m         \"\"\"\n\u001b[0;32m--> 104\u001b[0;31m         \u001b[0;32mreturn\u001b[0m \u001b[0mbmfs\u001b[0m\u001b[0;34m.\u001b[0m\u001b[0mexnll\u001b[0m\u001b[0;34m(\u001b[0m\u001b[0mself\u001b[0m\u001b[0;34m.\u001b[0m\u001b[0mfit_coeffs\u001b[0m\u001b[0;34m,\u001b[0m \u001b[0mself\u001b[0m\u001b[0;34m.\u001b[0m\u001b[0msignal_events\u001b[0m\u001b[0;34m)\u001b[0m\u001b[0;34m\u001b[0m\u001b[0;34m\u001b[0m\u001b[0m\n\u001b[0m\u001b[1;32m    105\u001b[0m \u001b[0;34m\u001b[0m\u001b[0m\n",
      "\u001b[0;32m~/Desktop/ICL/Git_LHCb/b_meson_fit/signal.py\u001b[0m in \u001b[0;36mexnll\u001b[0;34m(coeffs, events)\u001b[0m\n\u001b[1;32m     35\u001b[0m     \u001b[0mEvents\u001b[0m\u001b[0;34m:\u001b[0m \u001b[0mNx5\u001b[0m\u001b[0;34m\u001b[0m\u001b[0;34m\u001b[0m\u001b[0m\n\u001b[1;32m     36\u001b[0m     \"\"\"\n\u001b[0;32m---> 37\u001b[0;31m     \u001b[0mn_sig\u001b[0m \u001b[0;34m=\u001b[0m \u001b[0mnbar_dat\u001b[0m\u001b[0;34m*\u001b[0m\u001b[0malpha\u001b[0m\u001b[0;34m\u001b[0m\u001b[0;34m\u001b[0m\u001b[0m\n\u001b[0m\u001b[1;32m     38\u001b[0m     \u001b[0mevents_angles\u001b[0m\u001b[0;34m,\u001b[0m \u001b[0mevents_mass\u001b[0m \u001b[0;34m=\u001b[0m \u001b[0mtf\u001b[0m\u001b[0;34m.\u001b[0m\u001b[0msplit\u001b[0m\u001b[0;34m(\u001b[0m\u001b[0mevents\u001b[0m\u001b[0;34m,\u001b[0m\u001b[0;34m[\u001b[0m\u001b[0;36m4\u001b[0m\u001b[0;34m,\u001b[0m\u001b[0;36m1\u001b[0m\u001b[0;34m]\u001b[0m\u001b[0;34m,\u001b[0m\u001b[0maxis\u001b[0m \u001b[0;34m=\u001b[0m \u001b[0;36m1\u001b[0m\u001b[0;34m)\u001b[0m\u001b[0;34m\u001b[0m\u001b[0;34m\u001b[0m\u001b[0m\n\u001b[1;32m     39\u001b[0m     \u001b[0msignal\u001b[0m \u001b[0;34m=\u001b[0m \u001b[0mpdf\u001b[0m\u001b[0;34m(\u001b[0m\u001b[0msig_coeffs\u001b[0m\u001b[0;34m,\u001b[0m\u001b[0mevents_angles\u001b[0m\u001b[0;34m)\u001b[0m\u001b[0;34m*\u001b[0m\u001b[0mmass\u001b[0m\u001b[0;34m.\u001b[0m\u001b[0msignal_mass\u001b[0m\u001b[0;34m(\u001b[0m\u001b[0mevents_mass\u001b[0m\u001b[0;34m)\u001b[0m\u001b[0;34m\u001b[0m\u001b[0;34m\u001b[0m\u001b[0m\n",
      "\u001b[0;31mTypeError\u001b[0m: can't multiply sequence by non-int of type 'list'"
     ]
    }
   ],
   "source": [
    "\n",
    "coeffs = [*sig_coeffs,*back_coeffs,alpha,ndat,nback]\n",
    "print(coeffs)\n",
    "Optimizer_Extended(coeffs , events)"
   ]
  },
  {
   "cell_type": "markdown",
   "metadata": {},
   "source": [
    "# III ) Fitting with background signal "
   ]
  },
  {
   "cell_type": "code",
   "execution_count": null,
   "metadata": {},
   "outputs": [],
   "source": []
  },
  {
   "cell_type": "code",
   "execution_count": 6,
   "metadata": {},
   "outputs": [
    {
     "name": "stdout",
     "output_type": "stream",
     "text": [
      "\n",
      " Coeffs used for MC: [-4.1781025, -0.15184344, 6.8183246, 0.008585378, -0.0018230017, 0.4660742, -0.23538125, -0.0043176315, 8.003745, 0.16564202, -0.013095878, -0.30668017, 3.8864067, 0.08526551, -8.197446, -0.09505176, 0.007934013, -0.07297003, -0.4235836, 0.027298994, -7.147451, 0.0, 0.0, 0.0, 7.202759, -0.2278163, 9.89863, 0.0, 0.0, 0.0, 0.0, 0.0, 0.0, 0.0, 0.0, 0.0, 1.0, 0.0, 0.0, 1.0, 0.0, 0.0, 1.0, 0.0, 0.0, 1.0, 0.0, 0.0]\n",
      "Initial coeffs for tensorflow fit: [-4.1781025, -0.15184344, 6.8183246, 0.008585378, -0.0018230017, 0.4660742, -0.23538125, -0.0043176315, 8.003745, 0.16564202, -0.013095878, -0.30668017, 3.8864067, 0.08526551, -8.197446, -0.09505176, 0.007934013, -0.07297003, -0.4235836, 0.027298994, -7.147451, 0.0, 0.0, 0.0, 7.202759, -0.2278163, 9.89863, 0.0, 0.0, 0.0, 0.0, 0.0, 0.0, 0.0, 0.0, 0.0, 1.0, 0.0, 0.0, 1.0, 0.0, 0.0, 1.0, 0.0, 0.0, 1.0, 0.0, 0.0]\n",
      "Time taken to fit : 3.640030860900879\n",
      "\n",
      "  Fitted coefficients :  [-4.280896, -0.15184344, 6.8183246, -0.038818292, -0.0018230017, 0.4660742, -0.022639211, -0.0043176315, 8.003745, -0.54829216, -0.013095878, -0.30668017, 3.8197546, 0.08526551, -8.197446, -0.1503807, 0.007934013, -0.07297003, 0.035419345, 0.027298994, -7.147451, 0.0, 0.0, 0.0, 7.7876134, -0.2278163, 9.89863, 0.0, 0.0, 0.0, 0.0, 0.0, 0.0, 0.0, 0.0, 0.0, 0.96673316, 0.0, 0.0, 0.73551863, 0.0, 0.0, 1.4214495, 0.0, 0.0, 0.3009579, 0.0, 0.0]\n",
      "\n",
      " Coeffs used for MC: [-4.1781025, -0.15184344, 6.8183246, 0.008585378, -0.0018230017, 0.4660742, -0.23538125, -0.0043176315, 8.003745, 0.16564202, -0.013095878, -0.30668017, 3.8864067, 0.08526551, -8.197446, -0.09505176, 0.007934013, -0.07297003, -0.4235836, 0.027298994, -7.147451, 0.0, 0.0, 0.0, 7.202759, -0.2278163, 9.89863, 0.0, 0.0, 0.0, 0.0, 0.0, 0.0, 0.0, 0.0, 0.0, 1.0, 0.0, 0.0, 1.0, 0.0, 0.0, 1.0, 0.0, 0.0, 1.0, 0.0, 0.0]\n",
      "Initial coeffs for minuit fit: [-4.1781025, -0.15184344, 6.8183246, 0.008585378, -0.0018230017, 0.4660742, -0.23538125, -0.0043176315, 8.003745, 0.16564202, -0.013095878, -0.30668017, 3.8864067, 0.08526551, -8.197446, -0.09505176, 0.007934013, -0.07297003, -0.4235836, 0.027298994, -7.147451, 0.0, 0.0, 0.0, 7.202759, -0.2278163, 9.89863, 0.0, 0.0, 0.0, 0.0, 0.0, 0.0, 0.0, 0.0, 0.0, 1.0, 0.0, 0.0, 1.0, 0.0, 0.0, 1.0, 0.0, 0.0, 1.0, 0.0, 0.0]\n",
      "Time taken to fit : 4.60369348526001\n",
      "\n",
      "  Fitted coefficients :  [-4.289209778932229, -0.15184344351291656, 6.818324565887451, -0.0449185138586744, -0.0018230016576126218, 0.4660741984844208, -0.04131211110582114, -0.004317631479352713, 8.003745079040527, -0.520847816352754, -0.013095878064632416, -0.30668017268180847, 3.831833042150784, 0.08526550978422165, -8.1974458694458, -0.15684763249329717, 0.00793401338160038, -0.07297003269195557, 0.008232452027463064, 0.02729899436235428, -7.147450923919678, 0.0, 0.0, 0.0, 7.8037024692058905, -0.22781629860401154, 9.898630142211914, 0.0, 0.0, 0.0, 0.0, 0.0, 0.0, 0.0, 0.0, 0.0, 0.961177469718468, 0.0, 0.0, 0.761449434747997, 0.0, 0.0, 1.4129982228362, 0.0, 0.0, 0.3085978858994435, 0.0, 0.0]\n"
     ]
    }
   ],
   "source": [
    "#perform fits using the migrad routine (minuit) and AMSGrad (tensorflow)\n",
    "FX=fix_alphas \n",
    "\n",
    "optimizerTF , coeffTF = toy_signalSM.tf_fit(init= 'DEFAULT' , fixed=FX , verbose=True )\n",
    "optimizeMigrad , coeffMigrad = toy_signalSM.minuitfit(init= 'DEFAULT' , fixed=FX , verbose=True)\n"
   ]
  }
 ],
 "metadata": {
  "kernelspec": {
   "display_name": "Python 3.6.9 64-bit ('venv': venv)",
   "language": "python",
   "name": "python36964bitvenvvenvf09321a507e94b04bde580a7467d9826"
  },
  "language_info": {
   "codemirror_mode": {
    "name": "ipython",
    "version": 3
   },
   "file_extension": ".py",
   "mimetype": "text/x-python",
   "name": "python",
   "nbconvert_exporter": "python",
   "pygments_lexer": "ipython3",
   "version": "3.6.9"
  }
 },
 "nbformat": 4,
 "nbformat_minor": 4
}
