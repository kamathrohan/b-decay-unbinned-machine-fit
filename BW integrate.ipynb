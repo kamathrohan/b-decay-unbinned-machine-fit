{
 "cells": [
  {
   "cell_type": "code",
   "execution_count": 1,
   "metadata": {},
   "outputs": [],
   "source": [
    "import sys \n",
    "sys.path.append('/home/pierre-edouard/Desktop/ICL/Git_LHCb')\n",
    "\n",
    "import numpy as np \n",
    "import matplotlib.pyplot as plt\n",
    "from scipy import stats\n",
    "from scipy import interpolate\n",
    "import time \n",
    "from tqdm import tqdm\n",
    "import csv\n",
    "import tensorflow.compat.v2 as tf \n",
    "\n",
    "import b_meson_fit.signal as bmfs  \n",
    "import b_meson_fit.breit_wigner as bmfb\n",
    "import b_meson_fit as bmf"
   ]
  },
  {
   "cell_type": "code",
   "execution_count": 2,
   "metadata": {},
   "outputs": [
    {
     "name": "stdout",
     "output_type": "stream",
     "text": [
      "Integrated values between +/- 100 MeV of K892 mass: K892: 0.8878987431526184 K700: 0.29567646980285645 Mix: (0.639614999294281+0.009679198265075684j)\n"
     ]
    }
   ],
   "source": [
    "bmf.stdout(\n",
    "    'Integrated values between +/- 100 MeV of K892 mass: K892: {} K700: {} Mix: {}'.format(\n",
    "        bmf.breit_wigner.k892_distribution_integrated(),\n",
    "        bmf.breit_wigner.k700_distribution_integrated(),\n",
    "        bmf.breit_wigner.k700_k892_distribution_integrated()\n",
    "    )\n",
    ")"
   ]
  },
  {
   "cell_type": "code",
   "execution_count": 3,
   "metadata": {},
   "outputs": [
    {
     "name": "stdout",
     "output_type": "stream",
     "text": [
      "tf.Tensor(1.425, shape=(), dtype=float32)\n"
     ]
    }
   ],
   "source": [
    "# See p49 of 2018 PDG - K*0(700)\n",
    "import tensorflow.compat.v2 as tf \n",
    "\n",
    "####      Swave component:        ####\n",
    "\n",
    "mass_k700 = tf.constant(0.824)  # 824 MeV\n",
    "decay_width_k700 = tf.constant(0.478)  # 478 MeV\n",
    "\n",
    "\n",
    "# See p49 of 2018 PDG - K*0(1430)\n",
    "mass_k1430 = tf.constant(1.425)\n",
    "decay_width_k1430 = tf.constant(0.270)\n",
    "print(mass_k1430)\n",
    "\n",
    "\n",
    "\n",
    "####      P-wave component:        ####\n",
    "\n",
    "# See p49 of 2018 PDG - K*0(892)\n",
    "mass_k892 = tf.constant(0.89555)  # 895.55 MeV\n",
    "decay_width_k892 = tf.constant(0.0473)  # 47.3 MeV\n",
    "\n",
    "\n",
    "\n",
    "####  Integration and other masses ####\n",
    "\n",
    "\n",
    "mass_k_plus = tf.constant(0.493677)  # 493.677 MeV\n",
    "mass_pi_minus = tf.constant(0.13957018)  # 139.57018 MeV\n",
    "\n",
    "integration_max = tf.constant(100.0)\n",
    "integration_dt = tf.constant(0.00025)\n"
   ]
  },
  {
   "cell_type": "code",
   "execution_count": 4,
   "metadata": {},
   "outputs": [
    {
     "name": "stdout",
     "output_type": "stream",
     "text": [
      "tf.Tensor(\n",
      "[0.6432471  0.65235287 0.66145855 0.6705643  0.67967004 0.6887758\n",
      " 0.69788146 0.7069872  0.71609294 0.7251986  0.73430437 0.7434101\n",
      " 0.7525158  0.76162153 0.7707273  0.77983296 0.7889387  0.79804444\n",
      " 0.8071502  0.81625587 0.8253616  0.83446735 0.8435731  0.8526788\n",
      " 0.8617845  0.87089026 0.87999594 0.8891017  0.8982074  0.9073131\n",
      " 0.91641885 0.9255246  0.9346303  0.943736   0.95284176 0.96194744\n",
      " 0.97105324 0.9801589  0.9892646  0.9983704  1.0074761  1.0165818\n",
      " 1.0256876  1.0347933  1.043899   1.0530047  1.0621104  1.0712161\n",
      " 1.0803219  1.0894276  1.0985334  1.1076391  1.1167448  1.1258506\n",
      " 1.1349562  1.144062   1.1531677  1.1622734  1.1713791  1.1804848\n",
      " 1.1895906  1.1986964  1.207802   1.2169077  1.2260134  1.2351192\n",
      " 1.2442249  1.2533307  1.2624364  1.2715421  1.2806478  1.2897536\n",
      " 1.2988594  1.307965   1.3170707  1.3261764  1.3352821  1.3443879\n",
      " 1.3534937  1.3625994  1.371705   1.3808107  1.3899165  1.3990222\n",
      " 1.408128   1.4172337  1.4263394  1.4354451  1.4445509  1.4536567\n",
      " 1.4627624  1.471868   1.4809737  1.4900794  1.4991852  1.508291\n",
      " 1.5173967  1.5265024  1.535608   1.5447139  1.5538195  1.5629253\n",
      " 1.572031   1.5811367  1.5902424  1.5993482  1.608454   1.6175597\n",
      " 1.6266654  1.635771   1.6448768  1.6539825  1.6630882  1.672194\n",
      " 1.6812997  1.6904054  1.6995112  1.7086169  1.7177225  1.7268283\n",
      " 1.735934   1.7450398  1.7541455  1.7632512  1.772357   1.7814627\n",
      " 1.7905684  1.7996742  1.8087798  1.8178855  1.8269913  1.836097\n",
      " 1.8452027  1.8543085  1.8634142  1.8725199  1.8816257  1.8907313\n",
      " 1.8998371  1.9089428  1.9180485  1.9271543  1.93626    1.9453657\n",
      " 1.9544715  1.9635772  1.9726828  1.9817886  1.9908943  2.        ], shape=(150,), dtype=float32)\n"
     ]
    }
   ],
   "source": [
    "masses = tf.linspace(bmf.breit_wigner.mass_k_plus + bmf.breit_wigner.mass_pi_minus + 0.01, 2.0, 150)\n",
    "\n",
    "k700 = bmf.breit_wigner.k700_distribution(masses)\n",
    "k892 = bmf.breit_wigner.k892_distribution(masses)\n",
    "mix = tf.math.abs(bmf.breit_wigner.k700_k892_distribution(masses))\n",
    "\n",
    "print(masses)"
   ]
  },
  {
   "cell_type": "code",
   "execution_count": 7,
   "metadata": {},
   "outputs": [
    {
     "name": "stdout",
     "output_type": "stream",
     "text": [
      "633.2471370697021\n",
      "tf.Tensor(0.79555, shape=(), dtype=float32)\n"
     ]
    },
    {
     "data": {
      "image/png": "[encoded data removed]",
      "text/plain": [
       "<Figure size 432x288 with 1 Axes>"
      ]
     },
     "metadata": {},
     "output_type": "display_data"
    }
   ],
   "source": [
    "    import seaborn as sns\n",
    "plt.figure()\n",
    "# Set style as well as font to Computer Modern Roman to match LaTeX output\n",
    "sns.set(style='ticks', font='cmr10', rc={'mathtext.fontset': 'cm', 'axes.unicode_minus': False})\n",
    "\n",
    "plt.plot(masses.numpy() * 1000, k892.numpy(),'r-' , label=r'$ |BW_{K^*_0(892)}|^{2}$')\n",
    "plt.plot(masses.numpy() * 1000, k700.numpy(),'b-', label=r'$ |BW_{K^*_0(700)}|^{2}$')\n",
    "plt.plot(masses.numpy() * 1000, mix.numpy(), 'k-',label=r'$ |BW^{*}_{K^*_0(700)}BW_{K^*_0(892)}|$')\n",
    "plt.xlabel(r'$ m_{K\\pi}$'+' (MeV)')\n",
    "plt.ylabel(r'$|BW^{*}BW \\, |$')\n",
    "lim=(mass_k_plus.numpy()+mass_pi_minus.numpy())*1000\n",
    "print(lim)\n",
    "print(mass_k892 - 0.1)\n",
    "plt.xlim(lim,lim+700)\n",
    "plt.ylim(0 , 16)\n",
    "plt.margins(x=0)\n",
    "plt.legend()\n",
    "plt.axis()\n",
    "plt.show()"
   ]
  },
  {
   "cell_type": "code",
   "execution_count": 8,
   "metadata": {},
   "outputs": [
    {
     "ename": "AttributeError",
     "evalue": "module 'b_meson_fit.breit_wigner' has no attribute 'k70μ0_distribution'",
     "output_type": "error",
     "traceback": [
      "\u001b[0;31m---------------------------------------------------------------------------\u001b[0m",
      "\u001b[0;31mAttributeError\u001b[0m                            Traceback (most recent call last)",
      "\u001b[0;32m<ipython-input-8-2e61b0473ce4>\u001b[0m in \u001b[0;36m<module>\u001b[0;34m\u001b[0m\n\u001b[0;32m----> 1\u001b[0;31m \u001b[0mprint\u001b[0m\u001b[0;34m(\u001b[0m\u001b[0mbmf\u001b[0m\u001b[0;34m.\u001b[0m\u001b[0mbreit_wigner\u001b[0m\u001b[0;34m.\u001b[0m\u001b[0mk70µ0_distribution\u001b[0m\u001b[0;34m.\u001b[0m\u001b[0mnorm\u001b[0m\u001b[0;34m)\u001b[0m\u001b[0;34m\u001b[0m\u001b[0;34m\u001b[0m\u001b[0m\n\u001b[0m\u001b[1;32m      2\u001b[0m \u001b[0mprint\u001b[0m\u001b[0;34m(\u001b[0m\u001b[0mbmf\u001b[0m\u001b[0;34m.\u001b[0m\u001b[0mbreit_wigner\u001b[0m\u001b[0;34m.\u001b[0m\u001b[0mk892_distribution\u001b[0m\u001b[0;34m.\u001b[0m\u001b[0mnorm\u001b[0m\u001b[0;34m)\u001b[0m\u001b[0;34m\u001b[0m\u001b[0;34m\u001b[0m\u001b[0m\n",
      "\u001b[0;31mAttributeError\u001b[0m: module 'b_meson_fit.breit_wigner' has no attribute 'k70μ0_distribution'"
     ]
    }
   ],
   "source": [
    "print(bmf.breit_wigner.k70µ0_distribution.norm)\n",
    "print(bmf.breit_wigner.k892_distribution.norm)\n"
   ]
  },
  {
   "cell_type": "code",
   "execution_count": 9,
   "metadata": {},
   "outputs": [
    {
     "data": {
      "text/plain": [
       "<tf.Tensor: id=1391, shape=(), dtype=float32, numpy=0.88789874>"
      ]
     },
     "execution_count": 9,
     "metadata": {},
     "output_type": "execute_result"
    }
   ],
   "source": [
    "bmf.breit_wigner.k892_distribution_integrated()"
   ]
  },
  {
   "cell_type": "code",
   "execution_count": 10,
   "metadata": {},
   "outputs": [
    {
     "data": {
      "text/plain": [
       "<tf.Tensor: id=1474, shape=(), dtype=float32, numpy=0.29567647>"
      ]
     },
     "execution_count": 10,
     "metadata": {},
     "output_type": "execute_result"
    }
   ],
   "source": [
    "bmf.breit_wigner.k700_distribution_integrated()"
   ]
  },
  {
   "cell_type": "code",
   "execution_count": 11,
   "metadata": {},
   "outputs": [
    {
     "data": {
      "text/plain": [
       "<tf.Tensor: id=1625, shape=(), dtype=complex64, numpy=(0.639615+0.009679198j)>"
      ]
     },
     "execution_count": 11,
     "metadata": {},
     "output_type": "execute_result"
    }
   ],
   "source": [
    "bmf.breit_wigner.k700_k892_distribution_integrated()"
   ]
  }
 ],
 "metadata": {
  "kernelspec": {
   "display_name": "Python 3",
   "language": "python",
   "name": "python3"
  },
  "language_info": {
   "codemirror_mode": {
    "name": "ipython",
    "version": 3
   },
   "file_extension": ".py",
   "mimetype": "text/x-python",
   "name": "python",
   "nbconvert_exporter": "python",
   "pygments_lexer": "ipython3",
   "version": "3.6.9"
  }
 },
 "nbformat": 4,
 "nbformat_minor": 2
}
